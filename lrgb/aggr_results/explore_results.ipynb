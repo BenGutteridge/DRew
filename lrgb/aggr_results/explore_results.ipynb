{
 "cells": [
  {
   "cell_type": "markdown",
   "metadata": {
    "pycharm": {
     "name": "#%% md\n"
    }
   },
   "source": [
    "# Gathering Results\n",
    "\n",
    "1. First run a script to gather all results for a dataset into one JSON file:\n",
    "```bash\n",
    "python aggr_results/gather_results.py --dataset_name vocsuperpixels --output_fn results-vocsuperpixels.json\n",
    "python aggr_results/gather_results.py --dataset_name cocosuperpixels --output_fn results-cocosuperpixels.json\n",
    "python aggr_results/gather_results.py --dataset_name peptides-func --output_fn results-peptides-func.json\n",
    "python aggr_results/gather_results.py --dataset_name peptides-struct --output_fn results-peptides-struct.json\n",
    "```\n",
    "(optional) If automatic aggregation of results from multiple seeds or splits has failed (e.g., one of the jobs narrowly run out of time limit) you can run the aggregation manually:\n",
    "```bash\n",
    "python aggr_results/agg_runs.py --dir results/pcqm-contact/pcqm-contact-GCN-GCN-500k-pcqmcontact\n",
    "```\n",
    "\n",
    "2. Use the following function to get the metrics you need from the JSON files."
   ]
  },
  {
   "cell_type": "code",
   "execution_count": 1,
   "metadata": {
    "collapsed": false,
    "jupyter": {
     "outputs_hidden": false
    },
    "pycharm": {
     "name": "#%%\n"
    }
   },
   "outputs": [],
   "source": [
    "import json\n",
    "\n",
    "def make_string(r, metric):\n",
    "    s = f\"{r['Config']}\\t{r['score-params']}\"\n",
    "    if isinstance(metric, str):\n",
    "        s += f\"\\t{r['score-' + metric]}\\t{r['score-' + metric + '_std']}\"\n",
    "    elif isinstance(metric, list):\n",
    "        for m in metric:\n",
    "            if 'score-' + m in r:\n",
    "                s += f\"\\t{r['score-' + m]}\\t{r['score-' + m + '_std']}\"\n",
    "            else:\n",
    "                s += f\"\\t-1.0\\t-1.0\"\n",
    "    else:\n",
    "        raise ValueError\n",
    "    return s\n",
    "\n",
    "def load_and_print(file_names, dataset, split, metric):\n",
    "    results = []\n",
    "    for fn in file_names:\n",
    "        with open(fn, 'r') as f:\n",
    "            results.extend(json.load(f))\n",
    "    results.sort(key=lambda x: x['Config'])\n",
    "    for res in results:\n",
    "        if res['Dataset'] != dataset or res['Split'] != split:\n",
    "            continue\n",
    "        # if res['Config'].endswith('slic10'):\n",
    "        print(make_string(res, metric))"
   ]
  },
  {
   "cell_type": "markdown",
   "metadata": {
    "pycharm": {
     "name": "#%% md\n"
    }
   },
   "source": [
    "## Pascal and COCO: 8-layer and 4-layer GT-models"
   ]
  },
  {
   "cell_type": "code",
   "execution_count": 2,
   "metadata": {
    "collapsed": false,
    "jupyter": {
     "outputs_hidden": false
    },
    "pycharm": {
     "name": "#%%\n"
    }
   },
   "outputs": [
    {
     "name": "stdout",
     "output_type": "stream",
     "text": [
      "vocsuperpixels-SAN+RWSE-SAN-RWSE-VOC-COOFEATgraph-slic10\t467893.0\t0.27635\t0.01843\n",
      "vocsuperpixels-SAN+RWSE-SAN-RWSE-VOC-COOFEATgraph-slic30\t467893.0\t0.31235\t0.00908\n",
      "vocsuperpixels-SAN+RWSE-SAN-RWSE-VOC-COOgraph-slic10\t467893.0\t0.28406\t0.00904\n",
      "vocsuperpixels-SAN+RWSE-SAN-RWSE-VOC-COOgraph-slic30\t467893.0\t0.32267\t0.00839\n",
      "vocsuperpixels-SAN+RWSE-SAN-RWSE-VOC-RBgraph-slic10\t467989.0\t0.31128\t0.00716\n",
      "vocsuperpixels-SAN+RWSE-SAN-RWSE-VOC-RBgraph-slic30\t467989.0\t0.32157\t0.00272\n",
      "vocsuperpixels-SAN-SAN-VOC-COOFEATgraph-slic10\t530957.0\t0.28081\t0.00465\n",
      "vocsuperpixels-SAN-SAN-VOC-COOFEATgraph-slic30\t530957.0\t0.30034\t0.00459\n",
      "vocsuperpixels-SAN-SAN-VOC-COOgraph-slic10\t530957.0\t0.29035\t0.00307\n",
      "vocsuperpixels-SAN-SAN-VOC-COOgraph-slic30\t530957.0\t0.32178\t0.01604\n",
      "vocsuperpixels-SAN-SAN-VOC-RBgraph-slic10\t531045.0\t0.30306\t0.00462\n",
      "vocsuperpixels-SAN-SAN-VOC-RBgraph-slic30\t531045.0\t0.323\t0.00388\n",
      "vocsuperpixels-Transformer+LapPE-Transformer-LapPE-VOC-COOFEATgraph-slic10\t501045.0\t0.26669\t0.00601\n",
      "vocsuperpixels-Transformer+LapPE-Transformer-LapPE-VOC-COOFEATgraph-slic30\t501045.0\t0.26967\t0.00812\n",
      "vocsuperpixels-Transformer+LapPE-Transformer-LapPE-VOC-COOgraph-slic10\t501045.0\t0.26613\t0.01285\n",
      "vocsuperpixels-Transformer+LapPE-Transformer-LapPE-VOC-COOgraph-slic30\t501045.0\t0.26331\t0.0056\n",
      "vocsuperpixels-Transformer+LapPE-Transformer-LapPE-VOC-RBgraph-slic10\t501165.0\t0.26272\t0.00858\n",
      "vocsuperpixels-Transformer+LapPE-Transformer-LapPE-VOC-RBgraph-slic30\t501165.0\t0.26943\t0.00983\n"
     ]
    }
   ],
   "source": [
    "# load_and_print(['results-vocsuperpixels-GT-8L500k.json'], 'vocsuperpixels', 'test', 'f1')\n",
    "load_and_print(['results-vocsuperpixels-GT-4L500k.json'], 'vocsuperpixels', 'test', 'f1')"
   ]
  },
  {
   "cell_type": "code",
   "execution_count": 3,
   "metadata": {
    "collapsed": false,
    "jupyter": {
     "outputs_hidden": false
    },
    "pycharm": {
     "name": "#%%\n"
    }
   },
   "outputs": [
    {
     "name": "stdout",
     "output_type": "stream",
     "text": [
      "cocosuperpixels-SAN+RWSE-SAN-RWSE-COCO-COOFEATgraph-slic10\t473713.0\t0.2585\t0.00458\n",
      "cocosuperpixels-SAN+RWSE-SAN-RWSE-COCO-COOFEATgraph-slic30\t473713.0\t0.28692\t0.00671\n",
      "cocosuperpixels-SAN+RWSE-SAN-RWSE-COCO-COOgraph-slic10\t473713.0\t0.26752\t0.01261\n",
      "cocosuperpixels-SAN+RWSE-SAN-RWSE-COCO-COOgraph-slic30\t473713.0\t0.28171\t0.00465\n",
      "cocosuperpixels-SAN+RWSE-SAN-RWSE-COCO-RBgraph-slic10\t473809.0\t0.24421\t0.0231\n",
      "cocosuperpixels-SAN+RWSE-SAN-RWSE-COCO-RBgraph-slic30\t473809.0\t0.24338\t0.01558\n",
      "cocosuperpixels-SAN-SAN-COCO-COOFEATgraph-slic10\t536297.0\t0.25961\t0.00147\n",
      "cocosuperpixels-SAN-SAN-COCO-COOFEATgraph-slic30\t536297.0\t0.24977\t0.05125\n",
      "cocosuperpixels-SAN-SAN-COCO-COOgraph-slic10\t536297.0\t0.2605\t0.00619\n",
      "cocosuperpixels-SAN-SAN-COCO-COOgraph-slic30\t536297.0\t0.27806\t0.01431\n",
      "cocosuperpixels-SAN-SAN-COCO-RBgraph-slic10\t536385.0\t0.23245\t0.01906\n",
      "cocosuperpixels-SAN-SAN-COCO-RBgraph-slic30\t536385.0\t0.2592\t0.01578\n",
      "cocosuperpixels-Transformer+LapPE-Transformer-LapPE-COCO-COOFEATgraph-slic10\t508305.0\t0.24919\t0.00359\n",
      "cocosuperpixels-Transformer+LapPE-Transformer-LapPE-COCO-COOFEATgraph-slic30\t508305.0\t0.25892\t0.00691\n",
      "cocosuperpixels-Transformer+LapPE-Transformer-LapPE-COCO-COOgraph-slic10\t508305.0\t0.24551\t0.00364\n",
      "cocosuperpixels-Transformer+LapPE-Transformer-LapPE-COCO-COOgraph-slic30\t508305.0\t0.25794\t0.00573\n",
      "cocosuperpixels-Transformer+LapPE-Transformer-LapPE-COCO-RBgraph-slic10\t508425.0\t0.2478\t0.0068\n",
      "cocosuperpixels-Transformer+LapPE-Transformer-LapPE-COCO-RBgraph-slic30\t508425.0\t0.26177\t0.00314\n"
     ]
    }
   ],
   "source": [
    "# load_and_print(['results-cocosuperpixels-GT-8L500k.json'], 'cocosuperpixels', 'test', 'f1')\n",
    "load_and_print(['results-cocosuperpixels-GT-4L500k.json'], 'cocosuperpixels', 'test', 'f1')"
   ]
  },
  {
   "cell_type": "markdown",
   "metadata": {
    "pycharm": {
     "name": "#%% md\n"
    }
   },
   "source": [
    "## Peptides (Functional and Structural)"
   ]
  },
  {
   "cell_type": "code",
   "execution_count": 4,
   "metadata": {
    "collapsed": false,
    "jupyter": {
     "outputs_hidden": false
    },
    "pycharm": {
     "name": "#%%\n"
    }
   },
   "outputs": [
    {
     "name": "stdout",
     "output_type": "stream",
     "text": [
      "peptides-func-GCN-GCN-500k-peptides-func\t507910.0\t0.593\t0.00228\n",
      "peptides-func-GCN-GCN-peptides-func\t963010.0\t0.60589\t0.00228\n",
      "peptides-func-GINE-GINE-500k-peptides-func\t475498.0\t0.54979\t0.00791\n",
      "peptides-func-GINE-GINE-peptides-func\t963010.0\t0.55789\t0.00625\n",
      "peptides-func-GatedGCN+RWSE-GatedGCN+RWSE-500k-peptides-func\t506280.0\t0.60692\t0.00354\n",
      "peptides-func-GatedGCN-GatedGCN-500k-peptides-func\t509368.0\t0.5864\t0.00767\n",
      "peptides-func-GatedGCN-GatedGCN-peptides-func\t2323510.0\t0.5852\t0.00422\n",
      "peptides-func-SAN+RWSE-SAN+RWSE-500k-peptides-func\t499822.0\t0.64385\t0.00751\n",
      "peptides-func-SAN-SAN-500k-peptides-func\t492718.0\t0.63837\t0.01207\n",
      "peptides-func-Transformer+LapPE-Transformer+LapPE-500k-peptides-func\t488426.0\t0.63256\t0.01261\n"
     ]
    }
   ],
   "source": [
    "load_and_print(['results-peptides-func.json'], 'peptides-func', 'test', 'ap')"
   ]
  },
  {
   "cell_type": "code",
   "execution_count": 5,
   "metadata": {
    "collapsed": false,
    "jupyter": {
     "outputs_hidden": false
    },
    "pycharm": {
     "name": "#%%\n"
    }
   },
   "outputs": [
    {
     "name": "stdout",
     "output_type": "stream",
     "text": [
      "peptides-struct-GCN-GCN-500k-peptides-struct\t508211.0\t0.34955\t0.00134\t0.60192\t0.00271\n",
      "peptides-struct-GCN-GCN-peptides-struct\t963311.0\t0.34908\t0.00071\t0.60539\t0.00326\n",
      "peptides-struct-GINE-GINE-500k-peptides-struct\t475707.0\t0.3547\t0.00452\t0.59429\t0.00665\n",
      "peptides-struct-GINE-GINE-peptides-struct\t963311.0\t0.35961\t0.00385\t0.5949\t0.00536\n",
      "peptides-struct-GatedGCN+RWSE-GatedGCN+RWSE-500k-peptides-struct\t506419.0\t0.33566\t0.0006\t0.63291\t0.00338\n",
      "peptides-struct-GatedGCN-GatedGCN-500k-peptides-struct\t509507.0\t0.34203\t0.00132\t0.62537\t0.00128\n",
      "peptides-struct-GatedGCN-GatedGCN-peptides-struct\t2323811.0\t0.3422\t0.00134\t0.6237\t0.00223\n",
      "peptides-struct-SAN+RWSE-SAN+RWSE-500k-peptides-struct\t499923.0\t0.25454\t0.00116\t0.77162\t0.00344\n",
      "peptides-struct-SAN-SAN-500k-peptides-struct\t492803.0\t0.26828\t0.00432\t0.75812\t0.0057\n",
      "peptides-struct-Transformer+LapPE-Transformer+LapPE-500k-peptides-struct\t488547.0\t0.25293\t0.00155\t0.77432\t0.00528\n"
     ]
    }
   ],
   "source": [
    "load_and_print(['results-peptides-struct.json'], 'peptides-struct', 'test', ['mae', 'r2'])"
   ]
  },
  {
   "cell_type": "markdown",
   "metadata": {
    "pycharm": {
     "name": "#%% md\n"
    }
   },
   "source": [
    "## Pascal: MPNNs"
   ]
  },
  {
   "cell_type": "code",
   "execution_count": 6,
   "metadata": {
    "collapsed": false,
    "jupyter": {
     "outputs_hidden": false
    },
    "pycharm": {
     "name": "#%%\n"
    }
   },
   "outputs": [
    {
     "name": "stdout",
     "output_type": "stream",
     "text": [
      "vocsuperpixels-GCN-GCN-VOC-COOFEATgraph-slic10\t495901.0\t0.13205\t0.00431\n",
      "vocsuperpixels-GCN-GCN-VOC-COOFEATgraph-slic30\t495901.0\t0.13255\t0.0015\n",
      "vocsuperpixels-GCN-GCN-VOC-COOgraph-slic10\t495901.0\t0.12811\t0.00251\n",
      "vocsuperpixels-GCN-GCN-VOC-COOgraph-slic30\t495901.0\t0.12622\t0.00313\n",
      "vocsuperpixels-GCN-GCN-VOC-RBgraph-slic10\t495901.0\t0.13064\t0.00253\n",
      "vocsuperpixels-GCN-GCN-VOC-RBgraph-slic30\t495901.0\t0.12682\t0.00596\n",
      "vocsuperpixels-GINE-GINE-VOC-COOFEATgraph-slic10\t505325.0\t0.10784\t0.00348\n",
      "vocsuperpixels-GINE-GINE-VOC-COOFEATgraph-slic30\t505325.0\t0.10346\t0.00152\n",
      "vocsuperpixels-GINE-GINE-VOC-COOgraph-slic10\t505325.0\t0.11274\t0.00385\n",
      "vocsuperpixels-GINE-GINE-VOC-COOgraph-slic30\t505325.0\t0.12033\t0.0045\n",
      "vocsuperpixels-GINE-GINE-VOC-RBgraph-slic10\t505491.0\t0.12308\t0.00519\n",
      "vocsuperpixels-GINE-GINE-VOC-RBgraph-slic30\t505491.0\t0.12654\t0.00761\n",
      "vocsuperpixels-GatedGCN+LapPE-GatedGCN-LapPE-VOC-COOFEATgraph-slic10\t502389.0\t0.22411\t0.0035\n",
      "vocsuperpixels-GatedGCN+LapPE-GatedGCN-LapPE-VOC-COOFEATgraph-slic30\t502389.0\t0.23168\t0.02168\n",
      "vocsuperpixels-GatedGCN+LapPE-GatedGCN-LapPE-VOC-COOgraph-slic10\t502389.0\t0.28031\t0.0031\n",
      "vocsuperpixels-GatedGCN+LapPE-GatedGCN-LapPE-VOC-COOgraph-slic30\t502389.0\t0.289\t0.0057\n",
      "vocsuperpixels-GatedGCN+LapPE-GatedGCN-LapPE-VOC-RBgraph-slic10\t502497.0\t0.27218\t0.01494\n",
      "vocsuperpixels-GatedGCN+LapPE-GatedGCN-LapPE-VOC-RBgraph-slic30\t502497.0\t0.28602\t0.00851\n",
      "vocsuperpixels-GatedGCN-GatedGCN-VOC-COOFEATgraph-slic30\t502005.0\t0.2562\t0.00511\n",
      "vocsuperpixels-GatedGCN-GatedGCN-VOC-COOgraph-slic10\t502005.0\t0.27528\t0.00428\n",
      "vocsuperpixels-GatedGCN-GatedGCN-VOC-COOgraph-slic30\t502005.0\t0.29583\t0.00355\n",
      "vocsuperpixels-GatedGCN-GatedGCN-VOC-RBgraph-slic10\t502113.0\t0.27614\t0.0102\n",
      "vocsuperpixels-GatedGCN-GatedGCN-VOC-RBgraph-slic30\t502113.0\t0.29248\t0.01882\n"
     ]
    }
   ],
   "source": [
    "load_and_print(['results-vocsuperpixels-MPNN.json', 'results-vocsuperpixels-GINE.json'], 'vocsuperpixels', 'test', 'f1')"
   ]
  },
  {
   "cell_type": "code",
   "execution_count": 7,
   "metadata": {
    "collapsed": false,
    "jupyter": {
     "outputs_hidden": false
    },
    "pycharm": {
     "name": "#%%\n"
    }
   },
   "outputs": [
    {
     "name": "stdout",
     "output_type": "stream",
     "text": [
      "vocsuperpixels-GCN-GCN-VOC-COOFEATgraph-slic10\t495901.0\t0.19556\t0.02016\n",
      "vocsuperpixels-GCN-GCN-VOC-COOFEATgraph-slic30\t495901.0\t0.1742\t0.00424\n",
      "vocsuperpixels-GCN-GCN-VOC-COOgraph-slic10\t495901.0\t0.15592\t0.0079\n",
      "vocsuperpixels-GCN-GCN-VOC-COOgraph-slic30\t495901.0\t0.14687\t0.00675\n",
      "vocsuperpixels-GCN-GCN-VOC-RBgraph-slic10\t495901.0\t0.15298\t0.00479\n",
      "vocsuperpixels-GCN-GCN-VOC-RBgraph-slic30\t495901.0\t0.14503\t0.01251\n",
      "vocsuperpixels-GINE-GINE-VOC-COOFEATgraph-slic10\t505325.0\t0.30068\t0.04611\n",
      "vocsuperpixels-GINE-GINE-VOC-COOFEATgraph-slic30\t505325.0\t0.24792\t0.03175\n",
      "vocsuperpixels-GINE-GINE-VOC-COOgraph-slic10\t505325.0\t0.21781\t0.03817\n",
      "vocsuperpixels-GINE-GINE-VOC-COOgraph-slic30\t505325.0\t0.25753\t0.02826\n",
      "vocsuperpixels-GINE-GINE-VOC-RBgraph-slic10\t505491.0\t0.22778\t0.02243\n",
      "vocsuperpixels-GINE-GINE-VOC-RBgraph-slic30\t505491.0\t0.20882\t0.02681\n",
      "vocsuperpixels-GatedGCN+LapPE-GatedGCN-LapPE-VOC-COOFEATgraph-slic10\t502389.0\t0.35345\t0.03758\n",
      "vocsuperpixels-GatedGCN+LapPE-GatedGCN-LapPE-VOC-COOFEATgraph-slic30\t502389.0\t0.311\t0.0706\n",
      "vocsuperpixels-GatedGCN+LapPE-GatedGCN-LapPE-VOC-COOgraph-slic10\t502389.0\t0.43903\t0.01442\n",
      "vocsuperpixels-GatedGCN+LapPE-GatedGCN-LapPE-VOC-COOgraph-slic30\t502389.0\t0.42225\t0.03559\n",
      "vocsuperpixels-GatedGCN+LapPE-GatedGCN-LapPE-VOC-RBgraph-slic10\t502497.0\t0.35529\t0.03958\n",
      "vocsuperpixels-GatedGCN+LapPE-GatedGCN-LapPE-VOC-RBgraph-slic30\t502497.0\t0.35115\t0.01668\n",
      "vocsuperpixels-GatedGCN-GatedGCN-VOC-COOFEATgraph-slic30\t502005.0\t0.40406\t0.02719\n",
      "vocsuperpixels-GatedGCN-GatedGCN-VOC-COOgraph-slic10\t502005.0\t0.41179\t0.02063\n",
      "vocsuperpixels-GatedGCN-GatedGCN-VOC-COOgraph-slic30\t502005.0\t0.45331\t0.01464\n",
      "vocsuperpixels-GatedGCN-GatedGCN-VOC-RBgraph-slic10\t502113.0\t0.36148\t0.02233\n",
      "vocsuperpixels-GatedGCN-GatedGCN-VOC-RBgraph-slic30\t502113.0\t0.37096\t0.05785\n"
     ]
    }
   ],
   "source": [
    "load_and_print(['results-vocsuperpixels-MPNN.json', 'results-vocsuperpixels-GINE.json'], 'vocsuperpixels', 'train', 'f1')"
   ]
  },
  {
   "cell_type": "markdown",
   "metadata": {
    "pycharm": {
     "name": "#%% md\n"
    }
   },
   "source": [
    "## COCO MPNNs"
   ]
  },
  {
   "cell_type": "code",
   "execution_count": 8,
   "metadata": {
    "collapsed": false,
    "jupyter": {
     "outputs_hidden": false
    },
    "pycharm": {
     "name": "#%%\n"
    }
   },
   "outputs": [
    {
     "name": "stdout",
     "output_type": "stream",
     "text": [
      "cocosuperpixels-GCN-GCN-COCO-COOFEATgraph-slic10\t509161.0\t0.07799\t0.0026\n",
      "cocosuperpixels-GCN-GCN-COCO-COOFEATgraph-slic30\t509161.0\t0.08431\t0.00188\n",
      "cocosuperpixels-GCN-GCN-COCO-COOgraph-slic10\t509161.0\t0.077\t0.00167\n",
      "cocosuperpixels-GCN-GCN-COCO-COOgraph-slic30\t509161.0\t0.07973\t0.00259\n",
      "cocosuperpixels-GCN-GCN-COCO-RBgraph-slic10\t509161.0\t0.08088\t0.00428\n",
      "cocosuperpixels-GCN-GCN-COCO-RBgraph-slic30\t509161.0\t0.08414\t0.00095\n",
      "cocosuperpixels-GINE-GINE-COCO-COOFEATgraph-slic10\t515345.0\t0.08461\t0.00453\n",
      "cocosuperpixels-GINE-GINE-COCO-COOFEATgraph-slic30\t515345.0\t0.10031\t0.0022\n",
      "cocosuperpixels-GINE-GINE-COCO-COOgraph-slic10\t515345.0\t0.11085\t0.00482\n",
      "cocosuperpixels-GINE-GINE-COCO-COOgraph-slic30\t515345.0\t0.11679\t0.00533\n",
      "cocosuperpixels-GINE-GINE-COCO-RBgraph-slic10\t515511.0\t0.11958\t0.00526\n",
      "cocosuperpixels-GINE-GINE-COCO-RBgraph-slic30\t515511.0\t0.13392\t0.0044\n",
      "cocosuperpixels-GatedGCN+LapPE-GatedGCN-LapPE-COCO-COOFEATgraph-slic10\t508929.0\t0.21101\t0.0036\n",
      "cocosuperpixels-GatedGCN+LapPE-GatedGCN-LapPE-COCO-COOFEATgraph-slic30\t508929.0\t0.22826\t0.00359\n",
      "cocosuperpixels-GatedGCN+LapPE-GatedGCN-LapPE-COCO-COOgraph-slic10\t508929.0\t0.23067\t0.00137\n",
      "cocosuperpixels-GatedGCN+LapPE-GatedGCN-LapPE-COCO-COOgraph-slic30\t508929.0\t0.2454\t0.00154\n",
      "cocosuperpixels-GatedGCN+LapPE-GatedGCN-LapPE-COCO-RBgraph-slic10\t509037.0\t0.2529\t0.00625\n",
      "cocosuperpixels-GatedGCN+LapPE-GatedGCN-LapPE-COCO-RBgraph-slic30\t509037.0\t0.25736\t0.00344\n",
      "cocosuperpixels-GatedGCN-GatedGCN-COCO-COOFEATgraph-slic10\t508545.0\t0.21303\t0.00361\n",
      "cocosuperpixels-GatedGCN-GatedGCN-COCO-COOFEATgraph-slic30\t508545.0\t0.22849\t0.00692\n",
      "cocosuperpixels-GatedGCN-GatedGCN-COCO-COOgraph-slic10\t508545.0\t0.22796\t0.00317\n",
      "cocosuperpixels-GatedGCN-GatedGCN-COCO-COOgraph-slic30\t508545.0\t0.24405\t0.00347\n",
      "cocosuperpixels-GatedGCN-GatedGCN-COCO-RBgraph-slic10\t508653.0\t0.2542\t0.00435\n",
      "cocosuperpixels-GatedGCN-GatedGCN-COCO-RBgraph-slic30\t508653.0\t0.2641\t0.00453\n"
     ]
    }
   ],
   "source": [
    "load_and_print(['results-cocosuperpixels-MPNN.json', 'results-cocosuperpixels-GINE.json'], 'cocosuperpixels', 'test', 'f1')"
   ]
  },
  {
   "cell_type": "code",
   "execution_count": 9,
   "metadata": {
    "collapsed": false,
    "jupyter": {
     "outputs_hidden": false
    },
    "pycharm": {
     "name": "#%%\n"
    }
   },
   "outputs": [
    {
     "name": "stdout",
     "output_type": "stream",
     "text": [
      "cocosuperpixels-GCN-GCN-COCO-COOFEATgraph-slic10\t509161.0\t0.09192\t0.00582\n",
      "cocosuperpixels-GCN-GCN-COCO-COOFEATgraph-slic30\t509161.0\t0.10026\t0.00433\n",
      "cocosuperpixels-GCN-GCN-COCO-COOgraph-slic10\t509161.0\t0.08522\t0.00299\n",
      "cocosuperpixels-GCN-GCN-COCO-COOgraph-slic30\t509161.0\t0.0914\t0.0056\n",
      "cocosuperpixels-GCN-GCN-COCO-RBgraph-slic10\t509161.0\t0.08848\t0.00778\n",
      "cocosuperpixels-GCN-GCN-COCO-RBgraph-slic30\t509161.0\t0.09477\t0.00141\n",
      "cocosuperpixels-GINE-GINE-COCO-COOFEATgraph-slic10\t515345.0\t0.16048\t0.00899\n",
      "cocosuperpixels-GINE-GINE-COCO-COOFEATgraph-slic30\t515345.0\t0.16456\t0.00806\n",
      "cocosuperpixels-GINE-GINE-COCO-COOgraph-slic10\t515345.0\t0.18738\t0.00711\n",
      "cocosuperpixels-GINE-GINE-COCO-COOgraph-slic30\t515345.0\t0.17423\t0.0186\n",
      "cocosuperpixels-GINE-GINE-COCO-RBgraph-slic10\t515511.0\t0.18116\t0.0155\n",
      "cocosuperpixels-GINE-GINE-COCO-RBgraph-slic30\t515511.0\t0.21001\t0.00405\n",
      "cocosuperpixels-GatedGCN+LapPE-GatedGCN-LapPE-COCO-COOFEATgraph-slic10\t508929.0\t0.27894\t0.00804\n",
      "cocosuperpixels-GatedGCN+LapPE-GatedGCN-LapPE-COCO-COOFEATgraph-slic30\t508929.0\t0.28942\t0.00601\n",
      "cocosuperpixels-GatedGCN+LapPE-GatedGCN-LapPE-COCO-COOgraph-slic10\t508929.0\t0.30182\t0.00572\n",
      "cocosuperpixels-GatedGCN+LapPE-GatedGCN-LapPE-COCO-COOgraph-slic30\t508929.0\t0.31009\t0.00622\n",
      "cocosuperpixels-GatedGCN+LapPE-GatedGCN-LapPE-COCO-RBgraph-slic10\t509037.0\t0.31842\t0.01442\n",
      "cocosuperpixels-GatedGCN+LapPE-GatedGCN-LapPE-COCO-RBgraph-slic30\t509037.0\t0.31022\t0.01124\n",
      "cocosuperpixels-GatedGCN-GatedGCN-COCO-COOFEATgraph-slic10\t508545.0\t0.28419\t0.00772\n",
      "cocosuperpixels-GatedGCN-GatedGCN-COCO-COOFEATgraph-slic30\t508545.0\t0.29262\t0.01543\n",
      "cocosuperpixels-GatedGCN-GatedGCN-COCO-COOgraph-slic10\t508545.0\t0.30087\t0.00777\n",
      "cocosuperpixels-GatedGCN-GatedGCN-COCO-COOgraph-slic30\t508545.0\t0.30242\t0.00434\n",
      "cocosuperpixels-GatedGCN-GatedGCN-COCO-RBgraph-slic10\t508653.0\t0.31485\t0.00985\n",
      "cocosuperpixels-GatedGCN-GatedGCN-COCO-RBgraph-slic30\t508653.0\t0.3167\t0.00586\n"
     ]
    }
   ],
   "source": [
    "load_and_print(['results-cocosuperpixels-MPNN.json', 'results-cocosuperpixels-GINE.json'], 'cocosuperpixels', 'train', 'f1')"
   ]
  },
  {
   "cell_type": "markdown",
   "metadata": {
    "pycharm": {
     "name": "#%% md\n"
    }
   },
   "source": [
    "## PCQM-Contact"
   ]
  },
  {
   "cell_type": "code",
   "execution_count": 10,
   "metadata": {
    "collapsed": false,
    "jupyter": {
     "outputs_hidden": false
    },
    "pycharm": {
     "name": "#%%\n"
    }
   },
   "outputs": [
    {
     "name": "stdout",
     "output_type": "stream",
     "text": [
      "pcqm-contact-GCN-GCN-500k-pcqmcontact\t504350.0\t0.65679\t0.00053\t0.13213\t0.00069\t0.37909\t0.00039\t0.82562\t0.00064\t0.32342\t0.00058\n",
      "pcqm-contact-GINE-GINE-500k-pcqmcontact\t516880.0\t0.65079\t0.00482\t0.13373\t0.00132\t0.36416\t0.00427\t0.81473\t0.00617\t0.31795\t0.00267\n",
      "pcqm-contact-GatedGCN+RWSE-GatedGCN-RWSE-500k-pcqmcontact\t524072.0\t0.6776\t0.00074\t0.12882\t0.00127\t0.38082\t0.00055\t0.85173\t0.00048\t0.32422\t0.0008\n",
      "pcqm-contact-GatedGCN-GatedGCN-500k-pcqmcontact\t527160.0\t0.67021\t0.00053\t0.12788\t0.00176\t0.37829\t0.00041\t0.84329\t0.00109\t0.32182\t0.00106\n",
      "pcqm-contact-SAN+RWSE-SAN+RWSE-500k-pcqmcontact\t508912.0\t0.6804\t0.00234\t0.13115\t0.00159\t0.403\t0.00079\t0.855\t0.0024\t0.33405\t0.00064\n",
      "pcqm-contact-SAN-SAN-500k-pcqmcontact\t499008.0\t0.67441\t0.00404\t0.13546\t0.00172\t0.40042\t0.00212\t0.84784\t0.0044\t0.335\t0.0003\n",
      "pcqm-contact-Transformer+LapPE-Transformer+LapPE-500k-pcqmcontact\t501736.0\t0.67964\t0.00247\t0.12212\t0.00111\t0.36785\t0.00329\t0.8517\t0.00394\t0.31743\t0.00195\n"
     ]
    }
   ],
   "source": [
    "load_and_print(['results-pcqm-contact.json'], 'pcqm-contact', 'test', ['f1', 'hits@1', 'hits@3', 'hits@10', 'mrr'])"
   ]
  },
  {
   "cell_type": "code",
   "execution_count": 11,
   "metadata": {
    "collapsed": false,
    "jupyter": {
     "outputs_hidden": false
    },
    "pycharm": {
     "name": "#%%\n"
    }
   },
   "outputs": [
    {
     "name": "stdout",
     "output_type": "stream",
     "text": [
      "pcqm-contact-GCN-GCN-500k-pcqmcontact\t504350.0\t0.65914\t0.00061\t-1.0\t-1.0\t-1.0\t-1.0\t-1.0\t-1.0\t-1.0\t-1.0\n",
      "pcqm-contact-GINE-GINE-500k-pcqmcontact\t516880.0\t0.65238\t0.00522\t-1.0\t-1.0\t-1.0\t-1.0\t-1.0\t-1.0\t-1.0\t-1.0\n",
      "pcqm-contact-GatedGCN+RWSE-GatedGCN-RWSE-500k-pcqmcontact\t524072.0\t0.68072\t0.00099\t-1.0\t-1.0\t-1.0\t-1.0\t-1.0\t-1.0\t-1.0\t-1.0\n",
      "pcqm-contact-GatedGCN-GatedGCN-500k-pcqmcontact\t527160.0\t0.67387\t0.0007\t-1.0\t-1.0\t-1.0\t-1.0\t-1.0\t-1.0\t-1.0\t-1.0\n",
      "pcqm-contact-SAN+RWSE-SAN+RWSE-500k-pcqmcontact\t508912.0\t0.68298\t0.00237\t-1.0\t-1.0\t-1.0\t-1.0\t-1.0\t-1.0\t-1.0\t-1.0\n",
      "pcqm-contact-SAN-SAN-500k-pcqmcontact\t499008.0\t0.6757\t0.0042\t-1.0\t-1.0\t-1.0\t-1.0\t-1.0\t-1.0\t-1.0\t-1.0\n",
      "pcqm-contact-Transformer+LapPE-Transformer+LapPE-500k-pcqmcontact\t501736.0\t0.67446\t0.00277\t-1.0\t-1.0\t-1.0\t-1.0\t-1.0\t-1.0\t-1.0\t-1.0\n"
     ]
    }
   ],
   "source": [
    "load_and_print(['results-pcqm-contact.json'], 'pcqm-contact', 'train', ['f1', 'hits@1', 'hits@3', 'hits@10', 'mrr'])"
   ]
  },
  {
   "cell_type": "code",
   "execution_count": 11,
   "metadata": {
    "collapsed": false,
    "jupyter": {
     "outputs_hidden": false
    },
    "pycharm": {
     "name": "#%%\n"
    }
   },
   "outputs": [],
   "source": []
  }
 ],
 "metadata": {
  "kernelspec": {
   "display_name": "Python 3",
   "language": "python",
   "name": "python3"
  },
  "language_info": {
   "codemirror_mode": {
    "name": "ipython",
    "version": 3
   },
   "file_extension": ".py",
   "mimetype": "text/x-python",
   "name": "python",
   "nbconvert_exporter": "python",
   "pygments_lexer": "ipython3",
   "version": "3.9.7"
  }
 },
 "nbformat": 4,
 "nbformat_minor": 4
}
