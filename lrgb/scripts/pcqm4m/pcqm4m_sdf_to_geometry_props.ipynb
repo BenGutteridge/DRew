{
 "cells": [
  {
   "cell_type": "code",
   "execution_count": 1,
   "metadata": {},
   "outputs": [
    {
     "name": "stderr",
     "output_type": "stream",
     "text": [
      "WARNING:root:The OGB package is out of date. Your version is 1.3.1, while the latest version is 1.3.3.\n"
     ]
    }
   ],
   "source": [
    "import os\n",
    "from tqdm import tqdm\n",
    "import numpy as np\n",
    "import pandas as pd\n",
    "from joblib import Parallel, delayed\n",
    "from ogb.utils.url import download_url, extract_zip\n",
    "from matplotlib import pyplot as plt\n",
    "import seaborn as sns\n",
    "import tarfile\n",
    "from copy import deepcopy\n",
    "\n",
    "from molecules.physics import generate_physics_dict_structure\n",
    "from molecules.parse_sdf import sdf_to_mols"
   ]
  },
  {
   "cell_type": "code",
   "execution_count": 2,
   "metadata": {},
   "outputs": [],
   "source": [
    "ROOT = \".\"\n",
    "SDF_URL = \"http://ogb-data.stanford.edu/data/lsc/pcqm4m-v2-train.sdf.tar.gz\"\n",
    "SDF_LOCAL = f\"{ROOT}/pcqm4m-v2-train.sdf\"\n",
    "SDF_LOCAL_ZIP = f\"{SDF_LOCAL}.tar.gz\"\n",
    "RAW_URL = \"http://ogb-data.stanford.edu/data/lsc/pcqm4m-v2.zip\"\n",
    "RAW_CSV = f\"{ROOT}/pcqm4m-v2/raw/data.csv.gz\"\n",
    "SKIP_DOWNLOAD = False # Set to false for downloading and unzipping the file. If already downloaded, set to True"
   ]
  },
  {
   "cell_type": "code",
   "execution_count": 3,
   "metadata": {},
   "outputs": [
    {
     "name": "stdout",
     "output_type": "stream",
     "text": [
      "Using exist file pcqm4m-v2-train.sdf.tar.gz\n"
     ]
    }
   ],
   "source": [
    "if not SKIP_DOWNLOAD:\n",
    "    # This can take many minutes\n",
    "    path = download_url(SDF_URL, ROOT)\n",
    "    with tarfile.open(path) as file:\n",
    "        file.extractall()"
   ]
  },
  {
   "cell_type": "code",
   "execution_count": 4,
   "metadata": {},
   "outputs": [
    {
     "name": "stdout",
     "output_type": "stream",
     "text": [
      "Using exist file pcqm4m-v2.zip\n",
      "Extracting ./pcqm4m-v2.zip\n"
     ]
    }
   ],
   "source": [
    "if not SKIP_DOWNLOAD:\n",
    "    raw_path = download_url(RAW_URL, ROOT)\n",
    "    extract_zip(raw_path, ROOT)"
   ]
  },
  {
   "cell_type": "code",
   "execution_count": 5,
   "metadata": {},
   "outputs": [
    {
     "name": "stderr",
     "output_type": "stream",
     "text": [
      "  4%|▍         | 147956/3378606 [00:27<09:18, 5784.28it/s]RDKit WARNING: [18:43:44] Warning: molecule is tagged as 3D, but all Z coords are zero\n",
      "  4%|▍         | 148536/3378606 [00:27<09:19, 5773.95it/s][18:43:44] Warning: molecule is tagged as 3D, but all Z coords are zero\n",
      " 49%|████▉     | 1651813/3378606 [05:38<05:09, 5570.96it/s]RDKit WARNING: [18:48:54] WARNING: not removing hydrogen atom without neighbors\n",
      "[18:48:54] WARNING: not removing hydrogen atom without neighbors\n",
      "RDKit WARNING: [18:48:54] WARNING: not removing hydrogen atom without neighbors\n",
      "RDKit WARNING: [18:48:54] WARNING: not removing hydrogen atom without neighbors\n",
      "[18:48:54] WARNING: not removing hydrogen atom without neighbors\n",
      "[18:48:54] WARNING: not removing hydrogen atom without neighbors\n",
      " 52%|█████▏    | 1761659/3378606 [05:58<05:05, 5300.35it/s]RDKit WARNING: [18:49:14] WARNING: not removing hydrogen atom without neighbors\n",
      "[18:49:14] WARNING: not removing hydrogen atom without neighbors\n",
      "RDKit WARNING: [18:49:14] WARNING: not removing hydrogen atom without neighbors\n",
      "[18:49:14] WARNING: not removing hydrogen atom without neighbors\n",
      " 56%|█████▌    | 1893696/3378606 [06:22<04:16, 5782.82it/s]RDKit WARNING: [18:49:38] WARNING: not removing hydrogen atom without neighbors\n",
      "RDKit WARNING: [18:49:38] WARNING: not removing hydrogen atom without neighbors\n",
      "RDKit WARNING: [18:49:38] WARNING: not removing hydrogen atom without neighbors\n",
      "[18:49:38] WARNING: not removing hydrogen atom without neighbors\n",
      "[18:49:38] WARNING: not removing hydrogen atom without neighbors\n",
      " 56%|█████▌    | 1894280/3378606 [06:22<04:16, 5798.11it/s][18:49:38] WARNING: not removing hydrogen atom without neighbors\n",
      " 57%|█████▋    | 1921137/3378606 [06:26<04:22, 5550.26it/s]RDKit WARNING: [18:49:43] Conflicting single bond directions around double bond at index 4.\n",
      "RDKit WARNING: [18:49:43]   BondStereo set to STEREONONE and single bond directions set to NONE.\n",
      "[18:49:43] Conflicting single bond directions around double bond at index 4.\n",
      "[18:49:43]   BondStereo set to STEREONONE and single bond directions set to NONE.\n",
      " 58%|█████▊    | 1960334/3378606 [06:33<04:00, 5904.60it/s]RDKit WARNING: [18:49:50] Warning: molecule is tagged as 3D, but all Z coords are zero\n",
      "[18:49:50] Warning: molecule is tagged as 3D, but all Z coords are zero\n",
      " 75%|███████▌  | 2550316/3378606 [08:25<02:29, 5530.67it/s]RDKit WARNING: [18:51:42] Warning: molecule is tagged as 3D, but all Z coords are zero\n",
      "[18:51:42] Warning: molecule is tagged as 3D, but all Z coords are zero\n",
      " 77%|███████▋  | 2597305/3378606 [08:33<02:16, 5712.21it/s]RDKit WARNING: [18:51:50] Warning: molecule is tagged as 3D, but all Z coords are zero\n",
      "[18:51:50] Warning: molecule is tagged as 3D, but all Z coords are zero\n",
      " 82%|████████▏ | 2778534/3378606 [09:05<01:42, 5847.24it/s]RDKit WARNING: [18:52:21] Warning: molecule is tagged as 3D, but all Z coords are zero\n",
      "[18:52:21] Warning: molecule is tagged as 3D, but all Z coords are zero\n",
      " 82%|████████▏ | 2786758/3378606 [09:06<01:40, 5890.15it/s]RDKit WARNING: [18:52:23] Warning: molecule is tagged as 3D, but all Z coords are zero\n",
      "[18:52:23] Warning: molecule is tagged as 3D, but all Z coords are zero\n",
      " 84%|████████▎ | 2821266/3378606 [09:12<01:35, 5830.22it/s]RDKit WARNING: [18:52:29] Warning: molecule is tagged as 3D, but all Z coords are zero\n",
      "[18:52:29] Warning: molecule is tagged as 3D, but all Z coords are zero\n",
      " 85%|████████▍ | 2861016/3378606 [09:19<01:28, 5857.75it/s]RDKit WARNING: [18:52:36] Warning: molecule is tagged as 3D, but all Z coords are zero\n",
      "[18:52:36] Warning: molecule is tagged as 3D, but all Z coords are zero\n",
      " 85%|████████▌ | 2888191/3378606 [09:24<01:22, 5973.58it/s]RDKit WARNING: [18:52:40] Warning: molecule is tagged as 3D, but all Z coords are zero\n",
      "[18:52:40] Warning: molecule is tagged as 3D, but all Z coords are zero\n",
      " 87%|████████▋ | 2934087/3378606 [09:32<01:17, 5755.00it/s]RDKit WARNING: [18:52:48] Warning: molecule is tagged as 3D, but all Z coords are zero\n",
      "[18:52:48] Warning: molecule is tagged as 3D, but all Z coords are zero\n",
      " 88%|████████▊ | 2980405/3378606 [09:40<01:10, 5682.91it/s]RDKit WARNING: [18:52:57] Warning: molecule is tagged as 3D, but all Z coords are zero\n",
      "[18:52:57] Warning: molecule is tagged as 3D, but all Z coords are zero\n",
      " 89%|████████▊ | 2990793/3378606 [09:42<01:06, 5843.24it/s]RDKit WARNING: [18:52:59] Warning: molecule is tagged as 3D, but all Z coords are zero\n",
      "[18:52:59] Warning: molecule is tagged as 3D, but all Z coords are zero\n",
      "100%|██████████| 3378606/3378606 [10:50<00:00, 5193.66it/s]\n"
     ]
    },
    {
     "name": "stdout",
     "output_type": "stream",
     "text": [
      "3378606\n"
     ]
    },
    {
     "data": {
      "image/png": "[encoded data removed]",
      "text/plain": [
       "<rdkit.Chem.rdchem.Mol at 0x7f6d7ac5d700>"
      ]
     },
     "execution_count": 5,
     "metadata": {},
     "output_type": "execute_result"
    }
   ],
   "source": [
    "# WARNING: You need at least 60GB of RAM to read this file and execute the code\n",
    "mols = sdf_to_mols(SDF_LOCAL, max_mols=None)\n",
    "print(len(mols))\n",
    "mols[0]"
   ]
  },
  {
   "cell_type": "code",
   "execution_count": 6,
   "metadata": {},
   "outputs": [
    {
     "name": "stderr",
     "output_type": "stream",
     "text": [
      "94208it [00:17, 15513.00it/s]"
     ]
    },
    {
     "name": "stdout",
     "output_type": "stream",
     "text": [
      "Failed for molecule idx=85975 SMILES=O\n"
     ]
    },
    {
     "name": "stderr",
     "output_type": "stream",
     "text": [
      "147456it [00:20, 16938.03it/s]"
     ]
    },
    {
     "name": "stdout",
     "output_type": "stream",
     "text": [
      "Failed for molecule idx=137779 SMILES=P\n"
     ]
    },
    {
     "name": "stderr",
     "output_type": "stream",
     "text": [
      "1654784it [01:56, 16048.20it/s]"
     ]
    },
    {
     "name": "stdout",
     "output_type": "stream",
     "text": [
      "Failed for molecule idx=1646655 SMILES=S\n"
     ]
    },
    {
     "name": "stderr",
     "output_type": "stream",
     "text": [
      "1671168it [01:57, 16879.43it/s]"
     ]
    },
    {
     "name": "stdout",
     "output_type": "stream",
     "text": [
      "Failed for molecule idx=1662363 SMILES=P\n",
      "Failed for molecule idx=1662286 SMILES=C\n",
      "Failed for molecule idx=1665176 SMILES=S\n",
      "Failed for molecule idx=1665177 SMILES=S\n",
      "Failed for molecule idx=1664472 SMILES=C\n",
      "Failed for molecule idx=1664201 SMILES=C\n"
     ]
    },
    {
     "name": "stderr",
     "output_type": "stream",
     "text": [
      "1699840it [01:59, 17095.55it/s]"
     ]
    },
    {
     "name": "stdout",
     "output_type": "stream",
     "text": [
      "Failed for molecule idx=1693988 SMILES=N\n"
     ]
    },
    {
     "name": "stderr",
     "output_type": "stream",
     "text": [
      "1720320it [02:00, 16295.26it/s]"
     ]
    },
    {
     "name": "stdout",
     "output_type": "stream",
     "text": [
      "Failed for molecule idx=1711136 SMILES=N\n",
      "Failed for molecule idx=1711137 SMILES=N\n"
     ]
    },
    {
     "name": "stderr",
     "output_type": "stream",
     "text": [
      "1736704it [02:01, 17003.90it/s]"
     ]
    },
    {
     "name": "stdout",
     "output_type": "stream",
     "text": [
      "Failed for molecule idx=1730492 SMILES=P\n",
      "Failed for molecule idx=1734544 SMILES=[NH]\n"
     ]
    },
    {
     "name": "stderr",
     "output_type": "stream",
     "text": [
      "1740800it [02:02, 16589.18it/s]"
     ]
    },
    {
     "name": "stdout",
     "output_type": "stream",
     "text": [
      "Failed for molecule idx=1734210 SMILES=Cl\n",
      "Failed for molecule idx=1736513 SMILES=P\n",
      "Failed for molecule idx=1736514 SMILES=P\n"
     ]
    },
    {
     "name": "stderr",
     "output_type": "stream",
     "text": [
      "1748992it [02:02, 17115.75it/s]"
     ]
    },
    {
     "name": "stdout",
     "output_type": "stream",
     "text": [
      "Failed for molecule idx=1743406 SMILES=C\n"
     ]
    },
    {
     "name": "stderr",
     "output_type": "stream",
     "text": [
      "1757184it [02:03, 16700.99it/s]"
     ]
    },
    {
     "name": "stdout",
     "output_type": "stream",
     "text": [
      "Failed for molecule idx=1749315 SMILES=P\n",
      "Failed for molecule idx=1752280 SMILES=C\n"
     ]
    },
    {
     "name": "stderr",
     "output_type": "stream",
     "text": [
      "1761280it [02:03, 16899.25it/s]"
     ]
    },
    {
     "name": "stdout",
     "output_type": "stream",
     "text": [
      "Failed for molecule idx=1755906 SMILES=Br\n"
     ]
    },
    {
     "name": "stderr",
     "output_type": "stream",
     "text": [
      "1777664it [02:04, 16652.74it/s]"
     ]
    },
    {
     "name": "stdout",
     "output_type": "stream",
     "text": [
      "Failed for molecule idx=1768820 SMILES=P\n",
      "Failed for molecule idx=1773339 SMILES=[BH]\n",
      "Failed for molecule idx=1773342 SMILES=[NH]\n"
     ]
    },
    {
     "name": "stderr",
     "output_type": "stream",
     "text": [
      "1818624it [02:07, 11926.29it/s]"
     ]
    },
    {
     "name": "stdout",
     "output_type": "stream",
     "text": [
      "Failed for molecule idx=1812920 SMILES=C\n"
     ]
    },
    {
     "name": "stderr",
     "output_type": "stream",
     "text": [
      "1826816it [02:07, 14538.29it/s]"
     ]
    },
    {
     "name": "stdout",
     "output_type": "stream",
     "text": [
      "Failed for molecule idx=1818416 SMILES=N\n"
     ]
    },
    {
     "name": "stderr",
     "output_type": "stream",
     "text": [
      "1835008it [02:08, 15248.67it/s]"
     ]
    },
    {
     "name": "stdout",
     "output_type": "stream",
     "text": [
      "Failed for molecule idx=1827685 SMILES=Cl\n",
      "Failed for molecule idx=1831559 SMILES=P\n"
     ]
    },
    {
     "name": "stderr",
     "output_type": "stream",
     "text": [
      "1847296it [02:08, 16019.62it/s]"
     ]
    },
    {
     "name": "stdout",
     "output_type": "stream",
     "text": [
      "Failed for molecule idx=1838508 SMILES=N\n",
      "Failed for molecule idx=1841135 SMILES=S\n"
     ]
    },
    {
     "name": "stderr",
     "output_type": "stream",
     "text": [
      "1855488it [02:09, 16395.54it/s]"
     ]
    },
    {
     "name": "stdout",
     "output_type": "stream",
     "text": [
      "Failed for molecule idx=1849751 SMILES=[NH]\n"
     ]
    },
    {
     "name": "stderr",
     "output_type": "stream",
     "text": [
      "1859584it [02:09, 16511.12it/s]"
     ]
    },
    {
     "name": "stdout",
     "output_type": "stream",
     "text": [
      "Failed for molecule idx=1853781 SMILES=P\n",
      "Failed for molecule idx=1855419 SMILES=P\n"
     ]
    },
    {
     "name": "stderr",
     "output_type": "stream",
     "text": [
      "1863680it [02:09, 15901.15it/s]"
     ]
    },
    {
     "name": "stdout",
     "output_type": "stream",
     "text": [
      "Failed for molecule idx=1857468 SMILES=F\n",
      "Failed for molecule idx=1857469 SMILES=F\n",
      "Failed for molecule idx=1857470 SMILES=F\n",
      "Failed for molecule idx=1857471 SMILES=N\n",
      "Failed for molecule idx=1858155 SMILES=C\n"
     ]
    },
    {
     "name": "stderr",
     "output_type": "stream",
     "text": [
      "2273280it [02:35, 16690.19it/s]"
     ]
    },
    {
     "name": "stdout",
     "output_type": "stream",
     "text": [
      "Failed for molecule idx=2265330 SMILES=C\n"
     ]
    },
    {
     "name": "stderr",
     "output_type": "stream",
     "text": [
      "2285568it [02:35, 16441.77it/s]"
     ]
    },
    {
     "name": "stdout",
     "output_type": "stream",
     "text": [
      "Failed for molecule idx=2278189 SMILES=N\n",
      "Failed for molecule idx=2278265 SMILES=Cl\n"
     ]
    },
    {
     "name": "stderr",
     "output_type": "stream",
     "text": [
      "2633728it [02:57, 10686.35it/s]"
     ]
    },
    {
     "name": "stdout",
     "output_type": "stream",
     "text": [
      "Failed for molecule idx=2627608 SMILES=O\n"
     ]
    },
    {
     "name": "stderr",
     "output_type": "stream",
     "text": [
      "2641920it [02:58, 12066.24it/s]"
     ]
    },
    {
     "name": "stdout",
     "output_type": "stream",
     "text": [
      "Failed for molecule idx=2633315 SMILES=Br\n"
     ]
    },
    {
     "name": "stderr",
     "output_type": "stream",
     "text": [
      "2785280it [03:06, 16548.36it/s]"
     ]
    },
    {
     "name": "stdout",
     "output_type": "stream",
     "text": [
      "Failed for molecule idx=2774781 SMILES=C\n"
     ]
    },
    {
     "name": "stderr",
     "output_type": "stream",
     "text": [
      "2912256it [03:14, 17442.01it/s]"
     ]
    },
    {
     "name": "stdout",
     "output_type": "stream",
     "text": [
      "Failed for molecule idx=2904023 SMILES=S\n"
     ]
    },
    {
     "name": "stderr",
     "output_type": "stream",
     "text": [
      "2940928it [03:16, 16361.16it/s]"
     ]
    },
    {
     "name": "stdout",
     "output_type": "stream",
     "text": [
      "Failed for molecule idx=2932345 SMILES=Cl\n"
     ]
    },
    {
     "name": "stderr",
     "output_type": "stream",
     "text": [
      "2990080it [03:19, 16815.41it/s]"
     ]
    },
    {
     "name": "stdout",
     "output_type": "stream",
     "text": [
      "Failed for molecule idx=2980688 SMILES=N\n",
      "Failed for molecule idx=2980855 SMILES=F\n"
     ]
    },
    {
     "name": "stderr",
     "output_type": "stream",
     "text": [
      "2994176it [03:19, 16479.63it/s]"
     ]
    },
    {
     "name": "stdout",
     "output_type": "stream",
     "text": [
      "Failed for molecule idx=2985102 SMILES=O\n",
      "Failed for molecule idx=2985105 SMILES=S\n",
      "Failed for molecule idx=2984530 SMILES=C\n"
     ]
    },
    {
     "name": "stderr",
     "output_type": "stream",
     "text": [
      "2998272it [03:19, 16937.12it/s]"
     ]
    },
    {
     "name": "stdout",
     "output_type": "stream",
     "text": [
      "Failed for molecule idx=2991141 SMILES=Cl\n"
     ]
    },
    {
     "name": "stderr",
     "output_type": "stream",
     "text": [
      "3125248it [03:27, 16539.53it/s]"
     ]
    },
    {
     "name": "stdout",
     "output_type": "stream",
     "text": [
      "Failed for molecule idx=3117773 SMILES=C\n"
     ]
    },
    {
     "name": "stderr",
     "output_type": "stream",
     "text": [
      "3145728it [03:29, 15993.76it/s]"
     ]
    },
    {
     "name": "stdout",
     "output_type": "stream",
     "text": [
      "Failed for molecule idx=3138019 SMILES=O\n"
     ]
    },
    {
     "name": "stderr",
     "output_type": "stream",
     "text": [
      "3149824it [03:29, 16425.91it/s]"
     ]
    },
    {
     "name": "stdout",
     "output_type": "stream",
     "text": [
      "Failed for molecule idx=3144495 SMILES=F\n"
     ]
    },
    {
     "name": "stderr",
     "output_type": "stream",
     "text": [
      "3166208it [03:30, 16535.65it/s]"
     ]
    },
    {
     "name": "stdout",
     "output_type": "stream",
     "text": [
      "Failed for molecule idx=3159107 SMILES=[SiH4]\n"
     ]
    },
    {
     "name": "stderr",
     "output_type": "stream",
     "text": [
      "3182592it [03:31, 15635.47it/s]"
     ]
    },
    {
     "name": "stdout",
     "output_type": "stream",
     "text": [
      "Failed for molecule idx=3176383 SMILES=C\n",
      "Failed for molecule idx=3176384 SMILES=C\n",
      "Failed for molecule idx=3176385 SMILES=C\n",
      "Failed for molecule idx=3176386 SMILES=C\n",
      "Failed for molecule idx=3175805 SMILES=N\n"
     ]
    },
    {
     "name": "stderr",
     "output_type": "stream",
     "text": [
      "3215360it [03:33, 15942.36it/s]"
     ]
    },
    {
     "name": "stdout",
     "output_type": "stream",
     "text": [
      "Failed for molecule idx=3208582 SMILES=C\n"
     ]
    },
    {
     "name": "stderr",
     "output_type": "stream",
     "text": [
      "3264512it [03:36, 16665.38it/s]"
     ]
    },
    {
     "name": "stdout",
     "output_type": "stream",
     "text": [
      "Failed for molecule idx=3254373 SMILES=[BH]\n"
     ]
    },
    {
     "name": "stderr",
     "output_type": "stream",
     "text": [
      "3280896it [03:37, 16191.63it/s]"
     ]
    },
    {
     "name": "stdout",
     "output_type": "stream",
     "text": [
      "Failed for molecule idx=3274651 SMILES=C\n",
      "Failed for molecule idx=3274341 SMILES=C\n"
     ]
    },
    {
     "name": "stderr",
     "output_type": "stream",
     "text": [
      "3293184it [03:38, 16512.55it/s]"
     ]
    },
    {
     "name": "stdout",
     "output_type": "stream",
     "text": [
      "Failed for molecule idx=3286931 SMILES=C\n",
      "Failed for molecule idx=3286940 SMILES=C\n"
     ]
    },
    {
     "name": "stderr",
     "output_type": "stream",
     "text": [
      "3350528it [03:41, 17252.65it/s]"
     ]
    },
    {
     "name": "stdout",
     "output_type": "stream",
     "text": [
      "Failed for molecule idx=3342147 SMILES=Br\n",
      "Failed for molecule idx=3342150 SMILES=N\n",
      "Failed for molecule idx=3341898 SMILES=Cl\n"
     ]
    },
    {
     "name": "stderr",
     "output_type": "stream",
     "text": [
      "3354624it [03:41, 16726.57it/s]"
     ]
    },
    {
     "name": "stdout",
     "output_type": "stream",
     "text": [
      "Failed for molecule idx=3346957 SMILES=Br\n",
      "Failed for molecule idx=3346961 SMILES=C\n",
      "Failed for molecule idx=3347108 SMILES=O\n",
      "Failed for molecule idx=3347837 SMILES=O\n",
      "Failed for molecule idx=3349913 SMILES=O\n"
     ]
    },
    {
     "name": "stderr",
     "output_type": "stream",
     "text": [
      "3358720it [03:42, 16951.36it/s]"
     ]
    },
    {
     "name": "stdout",
     "output_type": "stream",
     "text": [
      "Failed for molecule idx=3348987 SMILES=P\n"
     ]
    },
    {
     "name": "stderr",
     "output_type": "stream",
     "text": [
      "3362816it [03:42, 16951.06it/s]"
     ]
    },
    {
     "name": "stdout",
     "output_type": "stream",
     "text": [
      "Failed for molecule idx=3355884 SMILES=F\n"
     ]
    },
    {
     "name": "stderr",
     "output_type": "stream",
     "text": [
      "3371008it [03:42, 17112.94it/s]"
     ]
    },
    {
     "name": "stdout",
     "output_type": "stream",
     "text": [
      "Failed for molecule idx=3362848 SMILES=S\n",
      "Failed for molecule idx=3364037 SMILES=F\n"
     ]
    },
    {
     "name": "stderr",
     "output_type": "stream",
     "text": [
      "3378606it [03:43, 15148.53it/s]"
     ]
    },
    {
     "name": "stdout",
     "output_type": "stream",
     "text": [
      "Failed for molecule idx=3366711 SMILES=S\n"
     ]
    },
    {
     "name": "stderr",
     "output_type": "stream",
     "text": [
      "\n"
     ]
    },
    {
     "data": {
      "text/html": [
       "<div>\n",
       "<style scoped>\n",
       "    .dataframe tbody tr th:only-of-type {\n",
       "        vertical-align: middle;\n",
       "    }\n",
       "\n",
       "    .dataframe tbody tr th {\n",
       "        vertical-align: top;\n",
       "    }\n",
       "\n",
       "    .dataframe thead th {\n",
       "        text-align: right;\n",
       "    }\n",
       "</style>\n",
       "<table border=\"1\" class=\"dataframe\">\n",
       "  <thead>\n",
       "    <tr style=\"text-align: right;\">\n",
       "      <th></th>\n",
       "      <th>Inertia_mass_a</th>\n",
       "      <th>Inertia_mass_b</th>\n",
       "      <th>Inertia_mass_c</th>\n",
       "      <th>Inertia_valence_a</th>\n",
       "      <th>Inertia_valence_b</th>\n",
       "      <th>Inertia_valence_c</th>\n",
       "      <th>length_a</th>\n",
       "      <th>length_b</th>\n",
       "      <th>length_c</th>\n",
       "      <th>Spherocity</th>\n",
       "      <th>Plane_best_fit</th>\n",
       "    </tr>\n",
       "    <tr>\n",
       "      <th>idx</th>\n",
       "      <th></th>\n",
       "      <th></th>\n",
       "      <th></th>\n",
       "      <th></th>\n",
       "      <th></th>\n",
       "      <th></th>\n",
       "      <th></th>\n",
       "      <th></th>\n",
       "      <th></th>\n",
       "      <th></th>\n",
       "      <th></th>\n",
       "    </tr>\n",
       "  </thead>\n",
       "  <tbody>\n",
       "    <tr>\n",
       "      <th>0</th>\n",
       "      <td>1.813462</td>\n",
       "      <td>1.601682</td>\n",
       "      <td>0.401664</td>\n",
       "      <td>1.510950</td>\n",
       "      <td>1.436966</td>\n",
       "      <td>0.173702</td>\n",
       "      <td>0.961845</td>\n",
       "      <td>0.452937</td>\n",
       "      <td>0.254786</td>\n",
       "      <td>0.152654</td>\n",
       "      <td>0.629731</td>\n",
       "    </tr>\n",
       "    <tr>\n",
       "      <th>1</th>\n",
       "      <td>2.308566</td>\n",
       "      <td>1.932109</td>\n",
       "      <td>0.403518</td>\n",
       "      <td>2.688305</td>\n",
       "      <td>1.975483</td>\n",
       "      <td>0.773145</td>\n",
       "      <td>1.053264</td>\n",
       "      <td>0.561198</td>\n",
       "      <td>0.126349</td>\n",
       "      <td>0.018992</td>\n",
       "      <td>0.209540</td>\n",
       "    </tr>\n",
       "    <tr>\n",
       "      <th>2</th>\n",
       "      <td>1.691103</td>\n",
       "      <td>1.338676</td>\n",
       "      <td>0.398564</td>\n",
       "      <td>1.848389</td>\n",
       "      <td>1.220168</td>\n",
       "      <td>0.714471</td>\n",
       "      <td>0.869384</td>\n",
       "      <td>0.583278</td>\n",
       "      <td>0.161675</td>\n",
       "      <td>0.041939</td>\n",
       "      <td>0.296200</td>\n",
       "    </tr>\n",
       "    <tr>\n",
       "      <th>3</th>\n",
       "      <td>1.753497</td>\n",
       "      <td>1.367217</td>\n",
       "      <td>0.411020</td>\n",
       "      <td>1.552199</td>\n",
       "      <td>1.053055</td>\n",
       "      <td>0.540122</td>\n",
       "      <td>0.875695</td>\n",
       "      <td>0.588322</td>\n",
       "      <td>0.126418</td>\n",
       "      <td>0.022437</td>\n",
       "      <td>0.204278</td>\n",
       "    </tr>\n",
       "    <tr>\n",
       "      <th>4</th>\n",
       "      <td>1.872057</td>\n",
       "      <td>1.467153</td>\n",
       "      <td>0.527033</td>\n",
       "      <td>1.661891</td>\n",
       "      <td>1.365148</td>\n",
       "      <td>0.350127</td>\n",
       "      <td>0.891042</td>\n",
       "      <td>0.562013</td>\n",
       "      <td>0.210463</td>\n",
       "      <td>0.081704</td>\n",
       "      <td>0.423562</td>\n",
       "    </tr>\n",
       "    <tr>\n",
       "      <th>...</th>\n",
       "      <td>...</td>\n",
       "      <td>...</td>\n",
       "      <td>...</td>\n",
       "      <td>...</td>\n",
       "      <td>...</td>\n",
       "      <td>...</td>\n",
       "      <td>...</td>\n",
       "      <td>...</td>\n",
       "      <td>...</td>\n",
       "      <td>...</td>\n",
       "      <td>...</td>\n",
       "    </tr>\n",
       "    <tr>\n",
       "      <th>3378601</th>\n",
       "      <td>1.348275</td>\n",
       "      <td>1.288381</td>\n",
       "      <td>0.529860</td>\n",
       "      <td>2.074233</td>\n",
       "      <td>1.926117</td>\n",
       "      <td>0.849037</td>\n",
       "      <td>0.828846</td>\n",
       "      <td>0.462148</td>\n",
       "      <td>0.401456</td>\n",
       "      <td>0.439983</td>\n",
       "      <td>1.001392</td>\n",
       "    </tr>\n",
       "    <tr>\n",
       "      <th>3378602</th>\n",
       "      <td>1.667726</td>\n",
       "      <td>1.532551</td>\n",
       "      <td>0.408586</td>\n",
       "      <td>2.339997</td>\n",
       "      <td>1.954943</td>\n",
       "      <td>0.658524</td>\n",
       "      <td>0.886473</td>\n",
       "      <td>0.473849</td>\n",
       "      <td>0.327503</td>\n",
       "      <td>0.205900</td>\n",
       "      <td>0.681391</td>\n",
       "    </tr>\n",
       "    <tr>\n",
       "      <th>3378603</th>\n",
       "      <td>1.450947</td>\n",
       "      <td>1.335399</td>\n",
       "      <td>0.385102</td>\n",
       "      <td>1.659290</td>\n",
       "      <td>1.385724</td>\n",
       "      <td>0.449171</td>\n",
       "      <td>0.919293</td>\n",
       "      <td>0.435652</td>\n",
       "      <td>0.331783</td>\n",
       "      <td>0.225624</td>\n",
       "      <td>0.603136</td>\n",
       "    </tr>\n",
       "    <tr>\n",
       "      <th>3378604</th>\n",
       "      <td>1.459332</td>\n",
       "      <td>1.360086</td>\n",
       "      <td>0.370713</td>\n",
       "      <td>1.663606</td>\n",
       "      <td>1.398784</td>\n",
       "      <td>0.437598</td>\n",
       "      <td>0.925686</td>\n",
       "      <td>0.434268</td>\n",
       "      <td>0.347544</td>\n",
       "      <td>0.223435</td>\n",
       "      <td>0.599439</td>\n",
       "    </tr>\n",
       "    <tr>\n",
       "      <th>3378605</th>\n",
       "      <td>1.699425</td>\n",
       "      <td>1.473906</td>\n",
       "      <td>0.427350</td>\n",
       "      <td>2.540095</td>\n",
       "      <td>2.228266</td>\n",
       "      <td>0.472735</td>\n",
       "      <td>0.955590</td>\n",
       "      <td>0.485876</td>\n",
       "      <td>0.306142</td>\n",
       "      <td>0.147630</td>\n",
       "      <td>0.564120</td>\n",
       "    </tr>\n",
       "  </tbody>\n",
       "</table>\n",
       "<p>3378526 rows × 11 columns</p>\n",
       "</div>"
      ],
      "text/plain": [
       "         Inertia_mass_a  Inertia_mass_b  Inertia_mass_c  Inertia_valence_a  \\\n",
       "idx                                                                          \n",
       "0              1.813462        1.601682        0.401664           1.510950   \n",
       "1              2.308566        1.932109        0.403518           2.688305   \n",
       "2              1.691103        1.338676        0.398564           1.848389   \n",
       "3              1.753497        1.367217        0.411020           1.552199   \n",
       "4              1.872057        1.467153        0.527033           1.661891   \n",
       "...                 ...             ...             ...                ...   \n",
       "3378601        1.348275        1.288381        0.529860           2.074233   \n",
       "3378602        1.667726        1.532551        0.408586           2.339997   \n",
       "3378603        1.450947        1.335399        0.385102           1.659290   \n",
       "3378604        1.459332        1.360086        0.370713           1.663606   \n",
       "3378605        1.699425        1.473906        0.427350           2.540095   \n",
       "\n",
       "         Inertia_valence_b  Inertia_valence_c  length_a  length_b  length_c  \\\n",
       "idx                                                                           \n",
       "0                 1.436966           0.173702  0.961845  0.452937  0.254786   \n",
       "1                 1.975483           0.773145  1.053264  0.561198  0.126349   \n",
       "2                 1.220168           0.714471  0.869384  0.583278  0.161675   \n",
       "3                 1.053055           0.540122  0.875695  0.588322  0.126418   \n",
       "4                 1.365148           0.350127  0.891042  0.562013  0.210463   \n",
       "...                    ...                ...       ...       ...       ...   \n",
       "3378601           1.926117           0.849037  0.828846  0.462148  0.401456   \n",
       "3378602           1.954943           0.658524  0.886473  0.473849  0.327503   \n",
       "3378603           1.385724           0.449171  0.919293  0.435652  0.331783   \n",
       "3378604           1.398784           0.437598  0.925686  0.434268  0.347544   \n",
       "3378605           2.228266           0.472735  0.955590  0.485876  0.306142   \n",
       "\n",
       "         Spherocity  Plane_best_fit  \n",
       "idx                                  \n",
       "0          0.152654        0.629731  \n",
       "1          0.018992        0.209540  \n",
       "2          0.041939        0.296200  \n",
       "3          0.022437        0.204278  \n",
       "4          0.081704        0.423562  \n",
       "...             ...             ...  \n",
       "3378601    0.439983        1.001392  \n",
       "3378602    0.205900        0.681391  \n",
       "3378603    0.225624        0.603136  \n",
       "3378604    0.223435        0.599439  \n",
       "3378605    0.147630        0.564120  \n",
       "\n",
       "[3378526 rows x 11 columns]"
      ]
     },
     "execution_count": 6,
     "metadata": {},
     "output_type": "execute_result"
    }
   ],
   "source": [
    "list_struct = Parallel(n_jobs=-1)(delayed(generate_physics_dict_structure)(mol, idx, skip_error=True) for idx, mol in tqdm(enumerate(mols)))\n",
    "# list_struct = []\n",
    "# for idx, mol in tqdm(enumerate(mols)):\n",
    "#     list_struct.append(generate_physics_dict_structure(mol, idx, skip_error=False))\n",
    "\n",
    "dict_struct = {k: [dic[k] for dic in list_struct if dic is not None] for k in list_struct[0]}\n",
    "df = pd.DataFrame(dict_struct)\n",
    "df = df.set_index(\"idx\")\n",
    "df"
   ]
  },
  {
   "cell_type": "code",
   "execution_count": 7,
   "metadata": {},
   "outputs": [],
   "source": [
    "raw_df = pd.read_csv(RAW_CSV)\n",
    "raw_df = raw_df.set_index(\"idx\")"
   ]
  },
  {
   "cell_type": "code",
   "execution_count": 8,
   "metadata": {},
   "outputs": [
    {
     "data": {
      "text/html": [
       "<div>\n",
       "<style scoped>\n",
       "    .dataframe tbody tr th:only-of-type {\n",
       "        vertical-align: middle;\n",
       "    }\n",
       "\n",
       "    .dataframe tbody tr th {\n",
       "        vertical-align: top;\n",
       "    }\n",
       "\n",
       "    .dataframe thead th {\n",
       "        text-align: right;\n",
       "    }\n",
       "</style>\n",
       "<table border=\"1\" class=\"dataframe\">\n",
       "  <thead>\n",
       "    <tr style=\"text-align: right;\">\n",
       "      <th></th>\n",
       "      <th>smiles</th>\n",
       "      <th>homolumogap</th>\n",
       "      <th>Inertia_mass_a</th>\n",
       "      <th>Inertia_mass_b</th>\n",
       "      <th>Inertia_mass_c</th>\n",
       "      <th>Inertia_valence_a</th>\n",
       "      <th>Inertia_valence_b</th>\n",
       "      <th>Inertia_valence_c</th>\n",
       "      <th>length_a</th>\n",
       "      <th>length_b</th>\n",
       "      <th>length_c</th>\n",
       "      <th>Spherocity</th>\n",
       "      <th>Plane_best_fit</th>\n",
       "    </tr>\n",
       "    <tr>\n",
       "      <th>idx</th>\n",
       "      <th></th>\n",
       "      <th></th>\n",
       "      <th></th>\n",
       "      <th></th>\n",
       "      <th></th>\n",
       "      <th></th>\n",
       "      <th></th>\n",
       "      <th></th>\n",
       "      <th></th>\n",
       "      <th></th>\n",
       "      <th></th>\n",
       "      <th></th>\n",
       "      <th></th>\n",
       "    </tr>\n",
       "  </thead>\n",
       "  <tbody>\n",
       "    <tr>\n",
       "      <th>0</th>\n",
       "      <td>O=C1[N]c2ccncc2[CH][C@@H]1c1ccc(cc1)C</td>\n",
       "      <td>3.047675</td>\n",
       "      <td>1.813462</td>\n",
       "      <td>1.601682</td>\n",
       "      <td>0.401664</td>\n",
       "      <td>1.510950</td>\n",
       "      <td>1.436966</td>\n",
       "      <td>0.173702</td>\n",
       "      <td>0.961845</td>\n",
       "      <td>0.452937</td>\n",
       "      <td>0.254786</td>\n",
       "      <td>0.152654</td>\n",
       "      <td>0.629731</td>\n",
       "    </tr>\n",
       "    <tr>\n",
       "      <th>1</th>\n",
       "      <td>COc1cc(OC)ccc1/C=C/N(C(=O)C)C</td>\n",
       "      <td>4.410966</td>\n",
       "      <td>2.308566</td>\n",
       "      <td>1.932109</td>\n",
       "      <td>0.403518</td>\n",
       "      <td>2.688305</td>\n",
       "      <td>1.975483</td>\n",
       "      <td>0.773145</td>\n",
       "      <td>1.053264</td>\n",
       "      <td>0.561198</td>\n",
       "      <td>0.126349</td>\n",
       "      <td>0.018992</td>\n",
       "      <td>0.209540</td>\n",
       "    </tr>\n",
       "    <tr>\n",
       "      <th>2</th>\n",
       "      <td>C=CCN(C(=O)C)/C=C/c1ccccc1C</td>\n",
       "      <td>4.639541</td>\n",
       "      <td>1.691103</td>\n",
       "      <td>1.338676</td>\n",
       "      <td>0.398564</td>\n",
       "      <td>1.848389</td>\n",
       "      <td>1.220168</td>\n",
       "      <td>0.714471</td>\n",
       "      <td>0.869384</td>\n",
       "      <td>0.583278</td>\n",
       "      <td>0.161675</td>\n",
       "      <td>0.041939</td>\n",
       "      <td>0.296200</td>\n",
       "    </tr>\n",
       "    <tr>\n",
       "      <th>3</th>\n",
       "      <td>C=CCN(C(=O)C)/C=C/c1ccccc1F</td>\n",
       "      <td>4.492600</td>\n",
       "      <td>1.753497</td>\n",
       "      <td>1.367217</td>\n",
       "      <td>0.411020</td>\n",
       "      <td>1.552199</td>\n",
       "      <td>1.053055</td>\n",
       "      <td>0.540122</td>\n",
       "      <td>0.875695</td>\n",
       "      <td>0.588322</td>\n",
       "      <td>0.126418</td>\n",
       "      <td>0.022437</td>\n",
       "      <td>0.204278</td>\n",
       "    </tr>\n",
       "    <tr>\n",
       "      <th>4</th>\n",
       "      <td>C=CCN(C(=O)C)/C=C/c1ccccc1Cl</td>\n",
       "      <td>4.612330</td>\n",
       "      <td>1.872057</td>\n",
       "      <td>1.467153</td>\n",
       "      <td>0.527033</td>\n",
       "      <td>1.661891</td>\n",
       "      <td>1.365148</td>\n",
       "      <td>0.350127</td>\n",
       "      <td>0.891042</td>\n",
       "      <td>0.562013</td>\n",
       "      <td>0.210463</td>\n",
       "      <td>0.081704</td>\n",
       "      <td>0.423562</td>\n",
       "    </tr>\n",
       "    <tr>\n",
       "      <th>...</th>\n",
       "      <td>...</td>\n",
       "      <td>...</td>\n",
       "      <td>...</td>\n",
       "      <td>...</td>\n",
       "      <td>...</td>\n",
       "      <td>...</td>\n",
       "      <td>...</td>\n",
       "      <td>...</td>\n",
       "      <td>...</td>\n",
       "      <td>...</td>\n",
       "      <td>...</td>\n",
       "      <td>...</td>\n",
       "      <td>...</td>\n",
       "    </tr>\n",
       "    <tr>\n",
       "      <th>3378601</th>\n",
       "      <td>Cc1ccc(c(c1)C)N[C@H](/C(=N\\C1CC1)/O)C</td>\n",
       "      <td>5.347037</td>\n",
       "      <td>1.348275</td>\n",
       "      <td>1.288381</td>\n",
       "      <td>0.529860</td>\n",
       "      <td>2.074233</td>\n",
       "      <td>1.926117</td>\n",
       "      <td>0.849037</td>\n",
       "      <td>0.828846</td>\n",
       "      <td>0.462148</td>\n",
       "      <td>0.401456</td>\n",
       "      <td>0.439983</td>\n",
       "      <td>1.001392</td>\n",
       "    </tr>\n",
       "    <tr>\n",
       "      <th>3378602</th>\n",
       "      <td>C[C@@H](/C(=N\\C1CC1)/O)Nc1cccc(c1C)C</td>\n",
       "      <td>5.809631</td>\n",
       "      <td>1.667726</td>\n",
       "      <td>1.532551</td>\n",
       "      <td>0.408586</td>\n",
       "      <td>2.339997</td>\n",
       "      <td>1.954943</td>\n",
       "      <td>0.658524</td>\n",
       "      <td>0.886473</td>\n",
       "      <td>0.473849</td>\n",
       "      <td>0.327503</td>\n",
       "      <td>0.205900</td>\n",
       "      <td>0.681391</td>\n",
       "    </tr>\n",
       "    <tr>\n",
       "      <th>3378603</th>\n",
       "      <td>C[C@H](/C(=N\\C(=N)O)/O)Nc1cccc(c1C)C</td>\n",
       "      <td>5.064039</td>\n",
       "      <td>1.450947</td>\n",
       "      <td>1.335399</td>\n",
       "      <td>0.385102</td>\n",
       "      <td>1.659290</td>\n",
       "      <td>1.385724</td>\n",
       "      <td>0.449171</td>\n",
       "      <td>0.919293</td>\n",
       "      <td>0.435652</td>\n",
       "      <td>0.331783</td>\n",
       "      <td>0.225624</td>\n",
       "      <td>0.603136</td>\n",
       "    </tr>\n",
       "    <tr>\n",
       "      <th>3378604</th>\n",
       "      <td>C[C@@H](/C(=N\\C(=N)O)/O)Nc1cccc(c1C)C</td>\n",
       "      <td>5.336153</td>\n",
       "      <td>1.459332</td>\n",
       "      <td>1.360086</td>\n",
       "      <td>0.370713</td>\n",
       "      <td>1.663606</td>\n",
       "      <td>1.398784</td>\n",
       "      <td>0.437598</td>\n",
       "      <td>0.925686</td>\n",
       "      <td>0.434268</td>\n",
       "      <td>0.347544</td>\n",
       "      <td>0.223435</td>\n",
       "      <td>0.599439</td>\n",
       "    </tr>\n",
       "    <tr>\n",
       "      <th>3378605</th>\n",
       "      <td>CCOc1ccccc1NC/C(=N\\C1CC1)/O</td>\n",
       "      <td>5.420508</td>\n",
       "      <td>1.699425</td>\n",
       "      <td>1.473906</td>\n",
       "      <td>0.427350</td>\n",
       "      <td>2.540095</td>\n",
       "      <td>2.228266</td>\n",
       "      <td>0.472735</td>\n",
       "      <td>0.955590</td>\n",
       "      <td>0.485876</td>\n",
       "      <td>0.306142</td>\n",
       "      <td>0.147630</td>\n",
       "      <td>0.564120</td>\n",
       "    </tr>\n",
       "  </tbody>\n",
       "</table>\n",
       "<p>3378526 rows × 13 columns</p>\n",
       "</div>"
      ],
      "text/plain": [
       "                                        smiles  homolumogap  Inertia_mass_a  \\\n",
       "idx                                                                           \n",
       "0        O=C1[N]c2ccncc2[CH][C@@H]1c1ccc(cc1)C     3.047675        1.813462   \n",
       "1                COc1cc(OC)ccc1/C=C/N(C(=O)C)C     4.410966        2.308566   \n",
       "2                  C=CCN(C(=O)C)/C=C/c1ccccc1C     4.639541        1.691103   \n",
       "3                  C=CCN(C(=O)C)/C=C/c1ccccc1F     4.492600        1.753497   \n",
       "4                 C=CCN(C(=O)C)/C=C/c1ccccc1Cl     4.612330        1.872057   \n",
       "...                                        ...          ...             ...   \n",
       "3378601  Cc1ccc(c(c1)C)N[C@H](/C(=N\\C1CC1)/O)C     5.347037        1.348275   \n",
       "3378602   C[C@@H](/C(=N\\C1CC1)/O)Nc1cccc(c1C)C     5.809631        1.667726   \n",
       "3378603   C[C@H](/C(=N\\C(=N)O)/O)Nc1cccc(c1C)C     5.064039        1.450947   \n",
       "3378604  C[C@@H](/C(=N\\C(=N)O)/O)Nc1cccc(c1C)C     5.336153        1.459332   \n",
       "3378605            CCOc1ccccc1NC/C(=N\\C1CC1)/O     5.420508        1.699425   \n",
       "\n",
       "         Inertia_mass_b  Inertia_mass_c  Inertia_valence_a  Inertia_valence_b  \\\n",
       "idx                                                                             \n",
       "0              1.601682        0.401664           1.510950           1.436966   \n",
       "1              1.932109        0.403518           2.688305           1.975483   \n",
       "2              1.338676        0.398564           1.848389           1.220168   \n",
       "3              1.367217        0.411020           1.552199           1.053055   \n",
       "4              1.467153        0.527033           1.661891           1.365148   \n",
       "...                 ...             ...                ...                ...   \n",
       "3378601        1.288381        0.529860           2.074233           1.926117   \n",
       "3378602        1.532551        0.408586           2.339997           1.954943   \n",
       "3378603        1.335399        0.385102           1.659290           1.385724   \n",
       "3378604        1.360086        0.370713           1.663606           1.398784   \n",
       "3378605        1.473906        0.427350           2.540095           2.228266   \n",
       "\n",
       "         Inertia_valence_c  length_a  length_b  length_c  Spherocity  \\\n",
       "idx                                                                    \n",
       "0                 0.173702  0.961845  0.452937  0.254786    0.152654   \n",
       "1                 0.773145  1.053264  0.561198  0.126349    0.018992   \n",
       "2                 0.714471  0.869384  0.583278  0.161675    0.041939   \n",
       "3                 0.540122  0.875695  0.588322  0.126418    0.022437   \n",
       "4                 0.350127  0.891042  0.562013  0.210463    0.081704   \n",
       "...                    ...       ...       ...       ...         ...   \n",
       "3378601           0.849037  0.828846  0.462148  0.401456    0.439983   \n",
       "3378602           0.658524  0.886473  0.473849  0.327503    0.205900   \n",
       "3378603           0.449171  0.919293  0.435652  0.331783    0.225624   \n",
       "3378604           0.437598  0.925686  0.434268  0.347544    0.223435   \n",
       "3378605           0.472735  0.955590  0.485876  0.306142    0.147630   \n",
       "\n",
       "         Plane_best_fit  \n",
       "idx                      \n",
       "0              0.629731  \n",
       "1              0.209540  \n",
       "2              0.296200  \n",
       "3              0.204278  \n",
       "4              0.423562  \n",
       "...                 ...  \n",
       "3378601        1.001392  \n",
       "3378602        0.681391  \n",
       "3378603        0.603136  \n",
       "3378604        0.599439  \n",
       "3378605        0.564120  \n",
       "\n",
       "[3378526 rows x 13 columns]"
      ]
     },
     "execution_count": 8,
     "metadata": {},
     "output_type": "execute_result"
    }
   ],
   "source": [
    "merged_df = raw_df.merge(df, how=\"inner\", on=[\"idx\"])\n",
    "merged_df"
   ]
  },
  {
   "cell_type": "code",
   "execution_count": 9,
   "metadata": {},
   "outputs": [
    {
     "data": {
      "text/html": [
       "<div>\n",
       "<style scoped>\n",
       "    .dataframe tbody tr th:only-of-type {\n",
       "        vertical-align: middle;\n",
       "    }\n",
       "\n",
       "    .dataframe tbody tr th {\n",
       "        vertical-align: top;\n",
       "    }\n",
       "\n",
       "    .dataframe thead th {\n",
       "        text-align: right;\n",
       "    }\n",
       "</style>\n",
       "<table border=\"1\" class=\"dataframe\">\n",
       "  <thead>\n",
       "    <tr style=\"text-align: right;\">\n",
       "      <th></th>\n",
       "      <th>smiles</th>\n",
       "      <th>homolumogap</th>\n",
       "      <th>Inertia_mass_a</th>\n",
       "      <th>Inertia_mass_b</th>\n",
       "      <th>Inertia_mass_c</th>\n",
       "      <th>Inertia_valence_a</th>\n",
       "      <th>Inertia_valence_b</th>\n",
       "      <th>Inertia_valence_c</th>\n",
       "      <th>length_a</th>\n",
       "      <th>length_b</th>\n",
       "      <th>length_c</th>\n",
       "      <th>Spherocity</th>\n",
       "      <th>Plane_best_fit</th>\n",
       "    </tr>\n",
       "    <tr>\n",
       "      <th>idx</th>\n",
       "      <th></th>\n",
       "      <th></th>\n",
       "      <th></th>\n",
       "      <th></th>\n",
       "      <th></th>\n",
       "      <th></th>\n",
       "      <th></th>\n",
       "      <th></th>\n",
       "      <th></th>\n",
       "      <th></th>\n",
       "      <th></th>\n",
       "      <th></th>\n",
       "      <th></th>\n",
       "    </tr>\n",
       "  </thead>\n",
       "  <tbody>\n",
       "    <tr>\n",
       "      <th>0</th>\n",
       "      <td>O=C1[N]c2ccncc2[CH][C@@H]1c1ccc(cc1)C</td>\n",
       "      <td>-2.273641</td>\n",
       "      <td>0.854490</td>\n",
       "      <td>0.818419</td>\n",
       "      <td>0.667598</td>\n",
       "      <td>-0.015986</td>\n",
       "      <td>0.121582</td>\n",
       "      <td>-0.716656</td>\n",
       "      <td>0.911150</td>\n",
       "      <td>0.288932</td>\n",
       "      <td>0.354982</td>\n",
       "      <td>-0.022536</td>\n",
       "      <td>0.799662</td>\n",
       "    </tr>\n",
       "    <tr>\n",
       "      <th>1</th>\n",
       "      <td>COc1cc(OC)ccc1/C=C/N(C(=O)C)C</td>\n",
       "      <td>-1.100282</td>\n",
       "      <td>1.724550</td>\n",
       "      <td>1.414701</td>\n",
       "      <td>0.681033</td>\n",
       "      <td>1.250696</td>\n",
       "      <td>0.741143</td>\n",
       "      <td>1.719337</td>\n",
       "      <td>1.433844</td>\n",
       "      <td>1.363607</td>\n",
       "      <td>-0.987392</td>\n",
       "      <td>-1.139823</td>\n",
       "      <td>-1.197323</td>\n",
       "    </tr>\n",
       "    <tr>\n",
       "      <th>2</th>\n",
       "      <td>C=CCN(C(=O)C)/C=C/c1ccccc1C</td>\n",
       "      <td>-0.903551</td>\n",
       "      <td>0.639465</td>\n",
       "      <td>0.343803</td>\n",
       "      <td>0.645132</td>\n",
       "      <td>0.347055</td>\n",
       "      <td>-0.127842</td>\n",
       "      <td>1.480899</td>\n",
       "      <td>0.382505</td>\n",
       "      <td>1.582788</td>\n",
       "      <td>-0.618179</td>\n",
       "      <td>-0.948009</td>\n",
       "      <td>-0.785467</td>\n",
       "    </tr>\n",
       "    <tr>\n",
       "      <th>3</th>\n",
       "      <td>C=CCN(C(=O)C)/C=C/c1ccccc1F</td>\n",
       "      <td>-1.030021</td>\n",
       "      <td>0.749111</td>\n",
       "      <td>0.395307</td>\n",
       "      <td>0.735391</td>\n",
       "      <td>0.028392</td>\n",
       "      <td>-0.320105</td>\n",
       "      <td>0.772387</td>\n",
       "      <td>0.418591</td>\n",
       "      <td>1.632850</td>\n",
       "      <td>-0.986680</td>\n",
       "      <td>-1.111028</td>\n",
       "      <td>-1.222334</td>\n",
       "    </tr>\n",
       "    <tr>\n",
       "      <th>4</th>\n",
       "      <td>C=CCN(C(=O)C)/C=C/c1ccccc1Cl</td>\n",
       "      <td>-0.926972</td>\n",
       "      <td>0.957461</td>\n",
       "      <td>0.575650</td>\n",
       "      <td>1.575992</td>\n",
       "      <td>0.146407</td>\n",
       "      <td>0.038957</td>\n",
       "      <td>0.000293</td>\n",
       "      <td>0.506338</td>\n",
       "      <td>1.371696</td>\n",
       "      <td>-0.108269</td>\n",
       "      <td>-0.615608</td>\n",
       "      <td>-0.180169</td>\n",
       "    </tr>\n",
       "    <tr>\n",
       "      <th>...</th>\n",
       "      <td>...</td>\n",
       "      <td>...</td>\n",
       "      <td>...</td>\n",
       "      <td>...</td>\n",
       "      <td>...</td>\n",
       "      <td>...</td>\n",
       "      <td>...</td>\n",
       "      <td>...</td>\n",
       "      <td>...</td>\n",
       "      <td>...</td>\n",
       "      <td>...</td>\n",
       "      <td>...</td>\n",
       "      <td>...</td>\n",
       "    </tr>\n",
       "    <tr>\n",
       "      <th>3378601</th>\n",
       "      <td>Cc1ccc(c(c1)C)N[C@H](/C(=N\\C1CC1)/O)C</td>\n",
       "      <td>-0.294623</td>\n",
       "      <td>0.037003</td>\n",
       "      <td>0.253042</td>\n",
       "      <td>1.596480</td>\n",
       "      <td>0.590033</td>\n",
       "      <td>0.684348</td>\n",
       "      <td>2.027743</td>\n",
       "      <td>0.150729</td>\n",
       "      <td>0.380363</td>\n",
       "      <td>1.887935</td>\n",
       "      <td>2.379246</td>\n",
       "      <td>2.566009</td>\n",
       "    </tr>\n",
       "    <tr>\n",
       "      <th>3378602</th>\n",
       "      <td>C[C@@H](/C(=N\\C1CC1)/O)Nc1cccc(c1C)C</td>\n",
       "      <td>0.103523</td>\n",
       "      <td>0.598384</td>\n",
       "      <td>0.693666</td>\n",
       "      <td>0.717751</td>\n",
       "      <td>0.875961</td>\n",
       "      <td>0.717512</td>\n",
       "      <td>1.253543</td>\n",
       "      <td>0.480212</td>\n",
       "      <td>0.496516</td>\n",
       "      <td>1.114998</td>\n",
       "      <td>0.422546</td>\n",
       "      <td>1.045184</td>\n",
       "    </tr>\n",
       "    <tr>\n",
       "      <th>3378603</th>\n",
       "      <td>C[C@H](/C(=N\\C(=N)O)/O)Nc1cccc(c1C)C</td>\n",
       "      <td>-0.538194</td>\n",
       "      <td>0.217432</td>\n",
       "      <td>0.337889</td>\n",
       "      <td>0.547594</td>\n",
       "      <td>0.143608</td>\n",
       "      <td>0.062629</td>\n",
       "      <td>0.402783</td>\n",
       "      <td>0.667861</td>\n",
       "      <td>0.117351</td>\n",
       "      <td>1.159735</td>\n",
       "      <td>0.587417</td>\n",
       "      <td>0.673268</td>\n",
       "    </tr>\n",
       "    <tr>\n",
       "      <th>3378604</th>\n",
       "      <td>C[C@@H](/C(=N\\C(=N)O)/O)Nc1cccc(c1C)C</td>\n",
       "      <td>-0.303991</td>\n",
       "      <td>0.232168</td>\n",
       "      <td>0.382439</td>\n",
       "      <td>0.443333</td>\n",
       "      <td>0.148252</td>\n",
       "      <td>0.077654</td>\n",
       "      <td>0.355754</td>\n",
       "      <td>0.704413</td>\n",
       "      <td>0.103608</td>\n",
       "      <td>1.324466</td>\n",
       "      <td>0.569116</td>\n",
       "      <td>0.655698</td>\n",
       "    </tr>\n",
       "    <tr>\n",
       "      <th>3378605</th>\n",
       "      <td>CCOc1ccccc1NC/C(=N\\C1CC1)/O</td>\n",
       "      <td>-0.231388</td>\n",
       "      <td>0.654089</td>\n",
       "      <td>0.587837</td>\n",
       "      <td>0.853710</td>\n",
       "      <td>1.091241</td>\n",
       "      <td>1.031968</td>\n",
       "      <td>0.498544</td>\n",
       "      <td>0.875392</td>\n",
       "      <td>0.615903</td>\n",
       "      <td>0.891745</td>\n",
       "      <td>-0.064533</td>\n",
       "      <td>0.487845</td>\n",
       "    </tr>\n",
       "  </tbody>\n",
       "</table>\n",
       "<p>3378526 rows × 13 columns</p>\n",
       "</div>"
      ],
      "text/plain": [
       "                                        smiles  homolumogap  Inertia_mass_a  \\\n",
       "idx                                                                           \n",
       "0        O=C1[N]c2ccncc2[CH][C@@H]1c1ccc(cc1)C    -2.273641        0.854490   \n",
       "1                COc1cc(OC)ccc1/C=C/N(C(=O)C)C    -1.100282        1.724550   \n",
       "2                  C=CCN(C(=O)C)/C=C/c1ccccc1C    -0.903551        0.639465   \n",
       "3                  C=CCN(C(=O)C)/C=C/c1ccccc1F    -1.030021        0.749111   \n",
       "4                 C=CCN(C(=O)C)/C=C/c1ccccc1Cl    -0.926972        0.957461   \n",
       "...                                        ...          ...             ...   \n",
       "3378601  Cc1ccc(c(c1)C)N[C@H](/C(=N\\C1CC1)/O)C    -0.294623        0.037003   \n",
       "3378602   C[C@@H](/C(=N\\C1CC1)/O)Nc1cccc(c1C)C     0.103523        0.598384   \n",
       "3378603   C[C@H](/C(=N\\C(=N)O)/O)Nc1cccc(c1C)C    -0.538194        0.217432   \n",
       "3378604  C[C@@H](/C(=N\\C(=N)O)/O)Nc1cccc(c1C)C    -0.303991        0.232168   \n",
       "3378605            CCOc1ccccc1NC/C(=N\\C1CC1)/O    -0.231388        0.654089   \n",
       "\n",
       "         Inertia_mass_b  Inertia_mass_c  Inertia_valence_a  Inertia_valence_b  \\\n",
       "idx                                                                             \n",
       "0              0.818419        0.667598          -0.015986           0.121582   \n",
       "1              1.414701        0.681033           1.250696           0.741143   \n",
       "2              0.343803        0.645132           0.347055          -0.127842   \n",
       "3              0.395307        0.735391           0.028392          -0.320105   \n",
       "4              0.575650        1.575992           0.146407           0.038957   \n",
       "...                 ...             ...                ...                ...   \n",
       "3378601        0.253042        1.596480           0.590033           0.684348   \n",
       "3378602        0.693666        0.717751           0.875961           0.717512   \n",
       "3378603        0.337889        0.547594           0.143608           0.062629   \n",
       "3378604        0.382439        0.443333           0.148252           0.077654   \n",
       "3378605        0.587837        0.853710           1.091241           1.031968   \n",
       "\n",
       "         Inertia_valence_c  length_a  length_b  length_c  Spherocity  \\\n",
       "idx                                                                    \n",
       "0                -0.716656  0.911150  0.288932  0.354982   -0.022536   \n",
       "1                 1.719337  1.433844  1.363607 -0.987392   -1.139823   \n",
       "2                 1.480899  0.382505  1.582788 -0.618179   -0.948009   \n",
       "3                 0.772387  0.418591  1.632850 -0.986680   -1.111028   \n",
       "4                 0.000293  0.506338  1.371696 -0.108269   -0.615608   \n",
       "...                    ...       ...       ...       ...         ...   \n",
       "3378601           2.027743  0.150729  0.380363  1.887935    2.379246   \n",
       "3378602           1.253543  0.480212  0.496516  1.114998    0.422546   \n",
       "3378603           0.402783  0.667861  0.117351  1.159735    0.587417   \n",
       "3378604           0.355754  0.704413  0.103608  1.324466    0.569116   \n",
       "3378605           0.498544  0.875392  0.615903  0.891745   -0.064533   \n",
       "\n",
       "         Plane_best_fit  \n",
       "idx                      \n",
       "0              0.799662  \n",
       "1             -1.197323  \n",
       "2             -0.785467  \n",
       "3             -1.222334  \n",
       "4             -0.180169  \n",
       "...                 ...  \n",
       "3378601        2.566009  \n",
       "3378602        1.045184  \n",
       "3378603        0.673268  \n",
       "3378604        0.655698  \n",
       "3378605        0.487845  \n",
       "\n",
       "[3378526 rows x 13 columns]"
      ]
     },
     "execution_count": 9,
     "metadata": {},
     "output_type": "execute_result"
    }
   ],
   "source": [
    "num_cols = merged_df.select_dtypes(include=np.floating).columns\n",
    "norm_df = deepcopy(merged_df)\n",
    "norm_df[num_cols] = (norm_df[num_cols] - norm_df[num_cols].mean()) / (norm_df[num_cols].std())\n",
    "norm_df"
   ]
  },
  {
   "cell_type": "code",
   "execution_count": 10,
   "metadata": {},
   "outputs": [],
   "source": [
    "merged_df = merged_df.sort_values(by=\"idx\")\n",
    "csv_path = os.path.join(ROOT, f\"pcqm4m-v2-geometry.csv.gz\")\n",
    "merged_df.to_csv(csv_path, index=False)\n",
    "\n",
    "norm_df = norm_df.sort_values(by=\"idx\")\n",
    "csv_path = os.path.join(ROOT, f\"pcqm4m-v2-geometry-normed.csv.gz\")\n",
    "norm_df.to_csv(csv_path, index=False)"
   ]
  },
  {
   "cell_type": "code",
   "execution_count": 11,
   "metadata": {},
   "outputs": [
    {
     "data": {
      "text/plain": [
       "<AxesSubplot:title={'center':'Correlations physics not normed pearson'}>"
      ]
     },
     "execution_count": 11,
     "metadata": {},
     "output_type": "execute_result"
    },
    {
     "data": {
      "image/png": "[encoded data removed]",
      "text/plain": [
       "<Figure size 576x504 with 2 Axes>"
      ]
     },
     "metadata": {
      "needs_background": "light"
     },
     "output_type": "display_data"
    }
   ],
   "source": [
    "n_samples = min(len(merged_df), 200000)\n",
    "corr = merged_df.sample(n=n_samples).corr(\"pearson\")\n",
    "plt.figure(figsize=(8,7))\n",
    "plt.title(\"Correlations physics not normed pearson\")\n",
    "sns.heatmap(corr, cmap=\"PiYG\", annot=True, vmax=1, vmin=-1)"
   ]
  },
  {
   "cell_type": "code",
   "execution_count": null,
   "metadata": {},
   "outputs": [],
   "source": []
  }
 ],
 "metadata": {
  "interpreter": {
   "hash": "906fb3602c4d49c4c01ec4a34d5abe4c7af3a32cf71a93ee4914804593d051b0"
  },
  "kernelspec": {
   "display_name": "Python 3.9.9 ('gtblueprint')",
   "language": "python",
   "name": "python3"
  },
  "language_info": {
   "codemirror_mode": {
    "name": "ipython",
    "version": 3
   },
   "file_extension": ".py",
   "mimetype": "text/x-python",
   "name": "python",
   "nbconvert_exporter": "python",
   "pygments_lexer": "ipython3",
   "version": "3.8.10"
  },
  "orig_nbformat": 4
 },
 "nbformat": 4,
 "nbformat_minor": 2
}
