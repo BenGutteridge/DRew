{
 "cells": [
  {
   "cell_type": "code",
   "execution_count": 1,
   "metadata": {},
   "outputs": [],
   "source": [
    "import numpy as np\n",
    "import pandas as pd\n",
    "import os.path as osp\n",
    "import torch\n",
    "from tqdm import tqdm\n",
    "from joblib.parallel import Parallel, delayed\n",
    "from matplotlib import pyplot as plt\n",
    "from copy import deepcopy\n",
    "\n",
    "from molecules.parse_sdf import get_num_atoms_from_smiles\n"
   ]
  },
  {
   "cell_type": "code",
   "execution_count": 2,
   "metadata": {},
   "outputs": [],
   "source": [
    "SEED = 42\n",
    "ROOT = \".\"\n",
    "DATASET = osp.join(ROOT, \"pcqm4m-v2-geometry-normed.csv.gz\")\n",
    "VAL_RATIO = 0.1\n",
    "TEST_RATIO = 0.1\n",
    "MAX_ATOMS_IN_TRAIN = 15\n",
    "NUMATOMS_500k_DIR = osp.join(ROOT, \"pcqm500k_num_atoms_split_dict.pt\")"
   ]
  },
  {
   "cell_type": "code",
   "execution_count": 3,
   "metadata": {},
   "outputs": [
    {
     "data": {
      "text/plain": [
       "0          O=C1[N]c2ccncc2[CH][C@@H]1c1ccc(cc1)C\n",
       "1                  COc1cc(OC)ccc1/C=C/N(C(=O)C)C\n",
       "2                    C=CCN(C(=O)C)/C=C/c1ccccc1C\n",
       "3                    C=CCN(C(=O)C)/C=C/c1ccccc1F\n",
       "4                   C=CCN(C(=O)C)/C=C/c1ccccc1Cl\n",
       "                           ...                  \n",
       "3378521    Cc1ccc(c(c1)C)N[C@H](/C(=N\\C1CC1)/O)C\n",
       "3378522     C[C@@H](/C(=N\\C1CC1)/O)Nc1cccc(c1C)C\n",
       "3378523     C[C@H](/C(=N\\C(=N)O)/O)Nc1cccc(c1C)C\n",
       "3378524    C[C@@H](/C(=N\\C(=N)O)/O)Nc1cccc(c1C)C\n",
       "3378525              CCOc1ccccc1NC/C(=N\\C1CC1)/O\n",
       "Name: smiles, Length: 3378526, dtype: object"
      ]
     },
     "execution_count": 3,
     "metadata": {},
     "output_type": "execute_result"
    }
   ],
   "source": [
    "smiles = pd.read_csv(DATASET, nrows=None, usecols=[\"smiles\"])[\"smiles\"]\n",
    "smiles"
   ]
  },
  {
   "cell_type": "code",
   "execution_count": 4,
   "metadata": {},
   "outputs": [
    {
     "name": "stderr",
     "output_type": "stream",
     "text": [
      "100%|██████████| 3378526/3378526 [06:08<00:00, 9156.81it/s] \n"
     ]
    }
   ],
   "source": [
    "num_atoms = Parallel(n_jobs=-1)(delayed(get_num_atoms_from_smiles)(s) for s in tqdm(smiles))"
   ]
  },
  {
   "cell_type": "code",
   "execution_count": 5,
   "metadata": {},
   "outputs": [],
   "source": [
    "def create_numatoms_split_500k(num_atoms_list, val_ratio, test_ratio, max_atoms_in_train):\n",
    "    \"\"\" Create split by the size of molecules, testing on the largest ones.\n",
    "    Args:\n",
    "        num_atoms_list: List with molecule size per each graph.\n",
    "    \"\"\"\n",
    "    N = int(5e5)\n",
    "    N_train = int(N * (1 - val_ratio - test_ratio))\n",
    "    N_val = int(N * val_ratio)\n",
    "    N_test = N - N_train - N_val\n",
    "    rng = np.random.default_rng(seed=SEED)\n",
    "    train_ratio = 1 - val_ratio - test_ratio\n",
    "\n",
    "    num_atoms_uniq, num_atoms_inv, num_atoms_count = np.unique(\n",
    "                num_atoms_list, return_inverse=True, return_counts=True)\n",
    "    weights = num_atoms_count.astype(float)[num_atoms_inv] ** -1\n",
    "    weights_train = deepcopy(weights)\n",
    "    weights_train[(num_atoms_uniq >= max_atoms_in_train)[num_atoms_inv]] = 0\n",
    "    weights_train /= np.sum(weights_train)\n",
    "\n",
    "    weights_valtest = deepcopy(weights)\n",
    "    weights_valtest[(num_atoms_uniq < max_atoms_in_train)[num_atoms_inv]] = 0\n",
    "    weights_valtest /= np.sum(weights_valtest)\n",
    "\n",
    "\n",
    "    # Split based on mol size into 90/5/5, but shuffle the top 10% randomly\n",
    "    # before splitting to validation and test set.\n",
    "\n",
    "    train_ind = rng.choice(np.arange(len(num_atoms_list)), size=N_train, replace=False, p=weights_train)\n",
    "    val_test_ind = rng.choice(np.arange(len(num_atoms_list)), size=N_val+N_test, replace=False, p=weights_valtest)\n",
    "    val_ind = val_test_ind[:N_val]\n",
    "    test_ind = val_test_ind[N_val:]\n",
    "    assert len(train_ind) + len(val_ind) + len(test_ind) == N\n",
    "    assert check_splits(N, [train_ind, val_ind, test_ind], [train_ratio, val_ratio, test_ratio])\n",
    "\n",
    "    size_split = {'train': train_ind, 'val': val_ind, 'test': test_ind}\n",
    "    torch.save(size_split, osp.join(ROOT, NUMATOMS_500k_DIR))\n",
    "\n",
    "def check_splits(N, splits, ratios):\n",
    "    \"\"\" Check whether splits intersect and raise error if so.\n",
    "    \"\"\"\n",
    "    assert sum([len(split) for split in splits]) == N\n",
    "    for ii, split in enumerate(splits):\n",
    "        true_ratio = len(split) / N\n",
    "        assert abs(true_ratio - ratios[ii]) < 3/N\n",
    "    for i in range(len(splits) - 1):\n",
    "        for j in range(i + 1, len(splits)):\n",
    "            n_intersect = len(set(splits[i]) & set(splits[j]))\n",
    "            if n_intersect != 0:\n",
    "                raise ValueError(\n",
    "                    f\"Splits must not have intersecting indices: \"\n",
    "                    f\"split #{i} (n = {len(splits[i])}) and \"\n",
    "                    f\"split #{j} (n = {len(splits[j])}) have \"\n",
    "                    f\"{n_intersect} intersecting indices\"\n",
    "                )\n",
    "    return True"
   ]
  },
  {
   "cell_type": "code",
   "execution_count": 6,
   "metadata": {},
   "outputs": [],
   "source": [
    "create_numatoms_split_500k(num_atoms, VAL_RATIO, TEST_RATIO, MAX_ATOMS_IN_TRAIN)"
   ]
  },
  {
   "cell_type": "code",
   "execution_count": 7,
   "metadata": {},
   "outputs": [],
   "source": [
    "num_atoms_split = torch.load(NUMATOMS_500k_DIR)"
   ]
  },
  {
   "cell_type": "code",
   "execution_count": 8,
   "metadata": {},
   "outputs": [
    {
     "data": {
      "text/plain": [
       "<matplotlib.legend.Legend at 0x277de21a880>"
      ]
     },
     "execution_count": 8,
     "metadata": {},
     "output_type": "execute_result"
    },
    {
     "data": {
      "image/png": "[encoded data removed]",
      "text/plain": [
       "<Figure size 432x288 with 1 Axes>"
      ]
     },
     "metadata": {
      "needs_background": "light"
     },
     "output_type": "display_data"
    }
   ],
   "source": [
    "plt.figure()\n",
    "max_len = max([len(idx) for idx in num_atoms_split.values()])\n",
    "arr = []\n",
    "for idx in num_atoms_split.values():\n",
    "    this_arr = np.nan + np.zeros(max_len)\n",
    "    this_arr[:len(idx)] = np.array(num_atoms)[idx]\n",
    "    arr.append(this_arr)\n",
    "arr = np.stack(arr, axis=1)\n",
    "\n",
    "plt.hist(arr, stacked=True, bins=np.arange(0, np.nanmax(arr)), log=False)\n",
    "plt.xticks(np.arange(0, 25, 5))\n",
    "plt.legend(num_atoms_split.keys())"
   ]
  },
  {
   "cell_type": "code",
   "execution_count": null,
   "metadata": {},
   "outputs": [],
   "source": []
  }
 ],
 "metadata": {
  "interpreter": {
   "hash": "96a7dde498302288fd342a0dd7e7c4e017c4083a8e5fac7570734c90ace78c7f"
  },
  "kernelspec": {
   "display_name": "Python 3.8.10 ('goli')",
   "language": "python",
   "name": "python3"
  },
  "language_info": {
   "codemirror_mode": {
    "name": "ipython",
    "version": 3
   },
   "file_extension": ".py",
   "mimetype": "text/x-python",
   "name": "python",
   "nbconvert_exporter": "python",
   "pygments_lexer": "ipython3",
   "version": "3.9.9"
  },
  "orig_nbformat": 4
 },
 "nbformat": 4,
 "nbformat_minor": 2
}
