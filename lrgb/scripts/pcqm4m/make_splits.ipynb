{
 "cells": [
  {
   "cell_type": "code",
   "execution_count": 9,
   "metadata": {},
   "outputs": [],
   "source": [
    "import numpy as np\n",
    "import pandas as pd\n",
    "import os.path as osp\n",
    "import torch\n",
    "from tqdm import tqdm\n",
    "from joblib.parallel import Parallel, delayed\n",
    "from matplotlib import pyplot as plt\n",
    "\n",
    "from molecules.parse_sdf import get_num_atoms_from_smiles\n"
   ]
  },
  {
   "cell_type": "code",
   "execution_count": 2,
   "metadata": {},
   "outputs": [],
   "source": [
    "SEED = 42\n",
    "ROOT = \".\"\n",
    "DATASET = osp.join(ROOT, \"pcqm4m-v2-geometry-normed.csv.gz\")\n",
    "VAL_RATIO = 0.05\n",
    "TEST_RATIO = 0.05\n",
    "SHUFFLE_DIR = osp.join(ROOT, \"shuffle_split_dict.pt\")\n",
    "NUMATOMS_DIR = osp.join(ROOT, \"num_atoms_split_dict.pt\")"
   ]
  },
  {
   "cell_type": "code",
   "execution_count": 3,
   "metadata": {},
   "outputs": [
    {
     "data": {
      "text/plain": [
       "0          O=C1[N]c2ccncc2[CH][C@@H]1c1ccc(cc1)C\n",
       "1                  COc1cc(OC)ccc1/C=C/N(C(=O)C)C\n",
       "2                    C=CCN(C(=O)C)/C=C/c1ccccc1C\n",
       "3                    C=CCN(C(=O)C)/C=C/c1ccccc1F\n",
       "4                   C=CCN(C(=O)C)/C=C/c1ccccc1Cl\n",
       "                           ...                  \n",
       "3378521    Cc1ccc(c(c1)C)N[C@H](/C(=N\\C1CC1)/O)C\n",
       "3378522     C[C@@H](/C(=N\\C1CC1)/O)Nc1cccc(c1C)C\n",
       "3378523     C[C@H](/C(=N\\C(=N)O)/O)Nc1cccc(c1C)C\n",
       "3378524    C[C@@H](/C(=N\\C(=N)O)/O)Nc1cccc(c1C)C\n",
       "3378525              CCOc1ccccc1NC/C(=N\\C1CC1)/O\n",
       "Name: smiles, Length: 3378526, dtype: object"
      ]
     },
     "execution_count": 3,
     "metadata": {},
     "output_type": "execute_result"
    }
   ],
   "source": [
    "smiles = pd.read_csv(DATASET, nrows=None, usecols=[\"smiles\"])[\"smiles\"]\n",
    "smiles"
   ]
  },
  {
   "cell_type": "code",
   "execution_count": 4,
   "metadata": {},
   "outputs": [
    {
     "name": "stderr",
     "output_type": "stream",
     "text": [
      " 50%|████▉     | 1674892/3378526 [00:15<00:15, 112748.03it/s][19:44:18] WARNING: not removing hydrogen atom without neighbors\n",
      "[19:44:18] WARNING: not removing hydrogen atom without neighbors\n",
      "[19:44:18] WARNING: not removing hydrogen atom without neighbors\n",
      "[19:44:18] WARNING: not removing hydrogen atom without neighbors\n",
      "[19:44:18] WARNING: not removing hydrogen atom without neighbors\n",
      "[19:44:18] WARNING: not removing hydrogen atom without neighbors\n",
      " 54%|█████▎    | 1808491/3378526 [00:16<00:15, 101366.30it/s][19:44:19] WARNING: not removing hydrogen atom without neighbors\n",
      "[19:44:19] WARNING: not removing hydrogen atom without neighbors\n",
      "[19:44:19] WARNING: not removing hydrogen atom without neighbors\n",
      "[19:44:19] WARNING: not removing hydrogen atom without neighbors\n",
      " 58%|█████▊    | 1943535/3378526 [00:17<00:12, 117184.34it/s][19:44:20] WARNING: not removing hydrogen atom without neighbors\n",
      "[19:44:20] WARNING: not removing hydrogen atom without neighbors\n",
      "[19:44:20] WARNING: not removing hydrogen atom without neighbors\n",
      "[19:44:20] WARNING: not removing hydrogen atom without neighbors\n",
      "[19:44:20] WARNING: not removing hydrogen atom without neighbors\n",
      "[19:44:20] WARNING: not removing hydrogen atom without neighbors\n",
      " 58%|█████▊    | 1964421/3378526 [00:17<00:10, 140620.49it/s][19:44:20] Conflicting single bond directions around double bond at index 13.\n",
      "[19:44:20]   BondStereo set to STEREONONE and single bond directions set to NONE.\n",
      " 62%|██████▏   | 2098547/3378526 [00:18<00:09, 134022.51it/s][19:44:21] Conflicting single bond directions around double bond at index 11.\n",
      "[19:44:21]   BondStereo set to STEREONONE and single bond directions set to NONE.\n",
      "100%|██████████| 3378526/3378526 [00:29<00:00, 113587.54it/s]\n"
     ]
    }
   ],
   "source": [
    "num_atoms = Parallel(n_jobs=-1)(delayed(get_num_atoms_from_smiles)(s) for s in tqdm(smiles))"
   ]
  },
  {
   "cell_type": "code",
   "execution_count": 5,
   "metadata": {},
   "outputs": [],
   "source": [
    "def create_shuffle_split(N, val_ratio, test_ratio):\n",
    "    \"\"\" Create a random shuffle split and saves it to disk.\n",
    "    Args:\n",
    "        N: Total size of the dataset to split.\n",
    "    \"\"\"\n",
    "    rng = np.random.default_rng(seed=SEED)\n",
    "    all_ind = rng.permutation(N)\n",
    "    train_ratio = 1 - val_ratio - test_ratio\n",
    "    val_ratio_rem = val_ratio / (val_ratio + test_ratio)\n",
    "\n",
    "    # Random shuffle split into 90/5/5.\n",
    "    train_ind, tmp_ind = all_ind[:int(train_ratio * N)], all_ind[int(train_ratio * N):]\n",
    "    val_ind = tmp_ind[:int(val_ratio_rem * len(tmp_ind))]\n",
    "    test_ind = tmp_ind[int((1-val_ratio_rem) * len(tmp_ind)):]\n",
    "    assert check_splits(N, [train_ind, val_ind, test_ind], [train_ratio, val_ratio, test_ratio])\n",
    "\n",
    "    shuffle_split = {'train': train_ind, 'val': val_ind, 'test': test_ind}\n",
    "    torch.save(shuffle_split, SHUFFLE_DIR)\n",
    "\n",
    "def create_numatoms_split(num_atoms_list, val_ratio, test_ratio):\n",
    "    \"\"\" Create split by the size of molecules, testing on the largest ones.\n",
    "    Args:\n",
    "        num_atoms_list: List with molecule size per each graph.\n",
    "    \"\"\"\n",
    "    rng = np.random.default_rng(seed=SEED)\n",
    "    all_ind = np.argsort(np.array(num_atoms_list))\n",
    "    train_ratio = 1 - val_ratio - test_ratio\n",
    "    val_ratio_rem = val_ratio / (val_ratio + test_ratio)\n",
    "\n",
    "    # Split based on mol size into 90/5/5, but shuffle the top 10% randomly\n",
    "    # before splitting to validation and test set.\n",
    "    N = len(num_atoms_list)\n",
    "    train_ind, tmp_ind = all_ind[:int(train_ratio * N)], all_ind[int(train_ratio * N):]\n",
    "    rng.shuffle(tmp_ind)\n",
    "    val_ind = tmp_ind[:int(val_ratio_rem * len(tmp_ind))]\n",
    "    test_ind = tmp_ind[int((1-val_ratio_rem) * len(tmp_ind)):]\n",
    "    assert len(train_ind) + len(val_ind) + len(test_ind) == N\n",
    "    assert check_splits(N, [train_ind, val_ind, test_ind], [train_ratio, val_ratio, test_ratio])\n",
    "\n",
    "    size_split = {'train': train_ind, 'val': val_ind, 'test': test_ind}\n",
    "    torch.save(size_split, osp.join(ROOT, NUMATOMS_DIR))\n",
    "\n",
    "def check_splits(N, splits, ratios):\n",
    "    \"\"\" Check whether splits intersect and raise error if so.\n",
    "    \"\"\"\n",
    "    assert sum([len(split) for split in splits]) == N\n",
    "    for ii, split in enumerate(splits):\n",
    "        true_ratio = len(split) / N\n",
    "        assert abs(true_ratio - ratios[ii]) < 3/N\n",
    "    for i in range(len(splits) - 1):\n",
    "        for j in range(i + 1, len(splits)):\n",
    "            n_intersect = len(set(splits[i]) & set(splits[j]))\n",
    "            if n_intersect != 0:\n",
    "                raise ValueError(\n",
    "                    f\"Splits must not have intersecting indices: \"\n",
    "                    f\"split #{i} (n = {len(splits[i])}) and \"\n",
    "                    f\"split #{j} (n = {len(splits[j])}) have \"\n",
    "                    f\"{n_intersect} intersecting indices\"\n",
    "                )\n",
    "    return True"
   ]
  },
  {
   "cell_type": "code",
   "execution_count": 6,
   "metadata": {},
   "outputs": [],
   "source": [
    "create_numatoms_split(num_atoms, VAL_RATIO, TEST_RATIO)\n",
    "create_shuffle_split(len(smiles), VAL_RATIO, TEST_RATIO)"
   ]
  },
  {
   "cell_type": "code",
   "execution_count": 7,
   "metadata": {},
   "outputs": [],
   "source": [
    "num_atoms_split = torch.load(NUMATOMS_DIR)\n",
    "shuffle_split = torch.load(SHUFFLE_DIR)"
   ]
  },
  {
   "cell_type": "code",
   "execution_count": 48,
   "metadata": {},
   "outputs": [
    {
     "data": {
      "text/plain": [
       "<matplotlib.legend.Legend at 0x7f239fde5820>"
      ]
     },
     "execution_count": 48,
     "metadata": {},
     "output_type": "execute_result"
    },
    {
     "data": {
      "image/png": "[encoded data removed]",
      "text/plain": [
       "<Figure size 432x288 with 1 Axes>"
      ]
     },
     "metadata": {
      "needs_background": "light"
     },
     "output_type": "display_data"
    }
   ],
   "source": [
    "plt.figure()\n",
    "max_len = max([len(idx) for idx in num_atoms_split.values()])\n",
    "arr = []\n",
    "for idx in num_atoms_split.values():\n",
    "    this_arr = np.nan + np.zeros(max_len)\n",
    "    this_arr[:len(idx)] = np.array(num_atoms)[idx]\n",
    "    arr.append(this_arr)\n",
    "arr = np.stack(arr, axis=1)\n",
    "\n",
    "plt.hist(arr, stacked=False, bins=np.arange(0, np.nanmax(arr)), log=False)\n",
    "plt.legend(num_atoms_split.keys())"
   ]
  },
  {
   "cell_type": "code",
   "execution_count": 50,
   "metadata": {},
   "outputs": [
    {
     "data": {
      "text/plain": [
       "<matplotlib.legend.Legend at 0x7f239fa71f10>"
      ]
     },
     "execution_count": 50,
     "metadata": {},
     "output_type": "execute_result"
    },
    {
     "data": {
      "image/png": "[encoded data removed]",
      "text/plain": [
       "<Figure size 432x288 with 1 Axes>"
      ]
     },
     "metadata": {
      "needs_background": "light"
     },
     "output_type": "display_data"
    }
   ],
   "source": [
    "plt.figure()\n",
    "max_len = max([len(idx) for idx in shuffle_split.values()])\n",
    "arr = []\n",
    "for idx in shuffle_split.values():\n",
    "    this_arr = np.nan + np.zeros(max_len)\n",
    "    this_arr[:len(idx)] = np.array(num_atoms)[idx]\n",
    "    arr.append(this_arr)\n",
    "arr = np.stack(arr, axis=1)\n",
    "\n",
    "plt.hist(arr, stacked=False, bins=np.arange(0, np.nanmax(arr)), log=False, density=True)\n",
    "plt.legend(shuffle_split.keys())"
   ]
  }
 ],
 "metadata": {
  "interpreter": {
   "hash": "96a7dde498302288fd342a0dd7e7c4e017c4083a8e5fac7570734c90ace78c7f"
  },
  "kernelspec": {
   "display_name": "Python 3.8.10 ('goli')",
   "language": "python",
   "name": "python3"
  },
  "language_info": {
   "codemirror_mode": {
    "name": "ipython",
    "version": 3
   },
   "file_extension": ".py",
   "mimetype": "text/x-python",
   "name": "python",
   "nbconvert_exporter": "python",
   "pygments_lexer": "ipython3",
   "version": "3.8.10"
  },
  "orig_nbformat": 4
 },
 "nbformat": 4,
 "nbformat_minor": 2
}
