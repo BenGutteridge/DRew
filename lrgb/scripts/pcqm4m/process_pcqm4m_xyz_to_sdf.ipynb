{
 "cells": [
  {
   "cell_type": "code",
   "execution_count": 1,
   "metadata": {},
   "outputs": [],
   "source": [
    "from openbabel import openbabel\n",
    "import os\n",
    "import numpy as np\n",
    "from tqdm import tqdm\n",
    "from joblib import Parallel, delayed\n",
    "from ogb.utils.url import decide_download, download_url, extract_zip\n",
    "from shutil import make_archive, rmtree"
   ]
  },
  {
   "cell_type": "code",
   "execution_count": 2,
   "metadata": {},
   "outputs": [],
   "source": [
    "XYZ_URL = \"http://ogb-data.stanford.edu/data/lsc/pcqm4m-v2_xyz.zip\"\n",
    "ROOT = \".\"\n",
    "XYZ_LOCAL_ZIP = f\"{ROOT}/pcqm4m-v2_xyz.zip\"\n",
    "XYZ_LOCAL = os.path.splitext(XYZ_LOCAL_ZIP)[0]\n",
    "SDF_ZIP = \"pcqm4m-v2_sdf.zip\"\n",
    "RAW_URL = \"http://ogb-data.stanford.edu/data/lsc/pcqm4m-v2.zip\"\n",
    "SKIP_DOWNLOAD = True # Set to false for downloading and unzipping the file"
   ]
  },
  {
   "cell_type": "code",
   "execution_count": 3,
   "metadata": {},
   "outputs": [],
   "source": [
    "def get_files_from_dir(dir, ext):\n",
    "    found_files = []\n",
    "    all_dirs = os.walk(dir)\n",
    "    for root, dirs, files in all_dirs:\n",
    "        for filename in files:\n",
    "            if filename.endswith(ext):\n",
    "                found_files.append(os.path.join(root, filename))\n",
    "    return found_files\n",
    "\n",
    "def convert_subfolders_mol_type(xyz_files, in_type, out_type, out_folder, to_zip_folder, delete_unzipped_folder=True):\n",
    "    unique_dirs, unique_inv = np.unique([os.path.dirname(file) for file in xyz_files], return_inverse=True)\n",
    "    for ii, this_dir in enumerate(unique_dirs):\n",
    "        print(this_dir)\n",
    "        new_dir = os.path.join(out_folder, os.path.basename(this_dir))\n",
    "        dir_idx = np.where(unique_inv == ii)[0]\n",
    "        these_files = [xyz_files[jj] for jj in dir_idx]\n",
    "        out = Parallel(n_jobs=-1)(delayed(convert_molecular_files)(file, new_dir, in_type, out_type) for file in tqdm(these_files))\n",
    "        if sum(out) > 0:\n",
    "            if to_zip_folder:\n",
    "                make_archive(base_name=new_dir, format=\"zip\", root_dir=os.path.dirname(new_dir), base_dir=this_dir)\n",
    "                if delete_unzipped_folder:\n",
    "                    rmtree(new_dir)\n",
    "    return out\n",
    "\n",
    "def convert_molecular_files(filename, new_dir, in_type, out_type):\n",
    "    out_name = os.path.splitext(os.path.basename(filename))[0] + f\".{out_type}\"\n",
    "    out_file = os.path.join(new_dir, out_name)\n",
    "    os.makedirs(new_dir, exist_ok=True)\n",
    "    conv=openbabel.OBConversion()\n",
    "    conv.SetInAndOutFormats(in_type, out_type)\n",
    "    conv.OpenInAndOutFiles(filename, out_file)\n",
    "    return conv.Convert()"
   ]
  },
  {
   "cell_type": "code",
   "execution_count": 4,
   "metadata": {},
   "outputs": [],
   "source": [
    "if not SKIP_DOWNLOAD:\n",
    "    path = download_url(XYZ_URL, ROOT)\n",
    "    extract_zip(path, ROOT)"
   ]
  },
  {
   "cell_type": "code",
   "execution_count": 5,
   "metadata": {},
   "outputs": [
    {
     "name": "stdout",
     "output_type": "stream",
     "text": [
      "['./pcqm4m-v2_xyz/00250000_00259999/254739.xyz', './pcqm4m-v2_xyz/00250000_00259999/251510.xyz', './pcqm4m-v2_xyz/00250000_00259999/255885.xyz', './pcqm4m-v2_xyz/00250000_00259999/250663.xyz', './pcqm4m-v2_xyz/00250000_00259999/259108.xyz', './pcqm4m-v2_xyz/00250000_00259999/254636.xyz', './pcqm4m-v2_xyz/00250000_00259999/259202.xyz', './pcqm4m-v2_xyz/00250000_00259999/252969.xyz', './pcqm4m-v2_xyz/00250000_00259999/253559.xyz', './pcqm4m-v2_xyz/00250000_00259999/259909.xyz']\n"
     ]
    }
   ],
   "source": [
    "# Read the xyz files and get the id, positions, atoms, and pair-wise distances\n",
    "xyz_files = get_files_from_dir(XYZ_LOCAL, ext=\".xyz\")\n",
    "print(xyz_files[:10])"
   ]
  },
  {
   "cell_type": "code",
   "execution_count": 6,
   "metadata": {},
   "outputs": [
    {
     "name": "stdout",
     "output_type": "stream",
     "text": [
      "This will take many minutes to complete!\n"
     ]
    }
   ],
   "source": [
    "print(\"This will take many minutes to complete!\")\n",
    "base_name, format = os.path.splitext(SDF_ZIP)\n",
    "out = convert_subfolders_mol_type(xyz_files, \n",
    "        in_type=\"xyz\", out_type=\"sdf\", out_folder=base_name, to_zip_folder=False)"
   ]
  },
  {
   "cell_type": "code",
   "execution_count": null,
   "metadata": {},
   "outputs": [],
   "source": [
    "make_archive(base_name=base_name, format=format[1:], root_dir=\".\", base_dir=base_name)"
   ]
  },
  {
   "cell_type": "code",
   "execution_count": null,
   "metadata": {},
   "outputs": [],
   "source": []
  }
 ],
 "metadata": {
  "interpreter": {
   "hash": "93dbc880c4cd047ee9a33ba6aeb885943fa2e5e4a95ee1e5ad353996a1c693d4"
  },
  "kernelspec": {
   "display_name": "Python 3.9.10 ('gtblueprint')",
   "language": "python",
   "name": "python3"
  },
  "language_info": {
   "codemirror_mode": {
    "name": "ipython",
    "version": 3
   },
   "file_extension": ".py",
   "mimetype": "text/x-python",
   "name": "python",
   "nbconvert_exporter": "python",
   "pygments_lexer": "ipython3",
   "version": "3.9.10"
  },
  "orig_nbformat": 4
 },
 "nbformat": 4,
 "nbformat_minor": 2
}
