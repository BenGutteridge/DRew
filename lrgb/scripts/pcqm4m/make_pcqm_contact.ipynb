{
 "cells": [
  {
   "cell_type": "code",
   "execution_count": 1,
   "metadata": {},
   "outputs": [
    {
     "name": "stdout",
     "output_type": "stream",
     "text": [
      "WARNING: You need at least 120GB of RAM to execute the code for the full dataset\n"
     ]
    }
   ],
   "source": [
    "from IPython.lib.deepreload import reload\n",
    "%load_ext autoreload\n",
    "%autoreload 2\n",
    "\n",
    "import os\n",
    "from tqdm import tqdm\n",
    "import numpy as np\n",
    "import pandas as pd\n",
    "from joblib import Parallel, delayed\n",
    "from ogb.utils.url import download_url, extract_zip\n",
    "from matplotlib import pyplot as plt\n",
    "import tarfile\n",
    "from rdkit.Chem.AllChem import GetAdjacencyMatrix, RemoveHs\n",
    "\n",
    "from molecules.physics import get_self_euclidean_dist_matrix\n",
    "from molecules.parse_sdf import sdf_to_mols\n",
    "from molecules.parse_cxsmiles import get_contact_dict, cxsmiles_to_mol_with_contact, try_read_cxsmiles\n",
    "\n",
    "# WARNING: You need at least 120GB of RAM to read this file and execute the code\n",
    "print(\"WARNING: You need at least 120GB of RAM to execute the code for the full dataset\")"
   ]
  },
  {
   "cell_type": "code",
   "execution_count": 2,
   "metadata": {},
   "outputs": [
    {
     "name": "stderr",
     "output_type": "stream",
     "text": [
      "WARNING:root:The OGB package is out of date. Your version is 1.3.1, while the latest version is 1.3.3.\n"
     ]
    }
   ],
   "source": [
    "ROOT = \".\"\n",
    "SDF_URL = \"http://ogb-data.stanford.edu/data/lsc/pcqm4m-v2-train.sdf.tar.gz\"\n",
    "SDF_LOCAL = f\"{ROOT}/pcqm4m-v2-train.sdf\"\n",
    "SDF_LOCAL_ZIP = f\"{SDF_LOCAL}.tar.gz\"\n",
    "RAW_URL = \"http://ogb-data.stanford.edu/data/lsc/pcqm4m-v2.zip\"\n",
    "RAW_CSV = f\"{ROOT}/pcqm4m-v2/raw/data.csv.gz\"\n",
    "SKIP_DOWNLOAD = False # Set to false for downloading and unzipping the file. If already downloaded, set to True\n",
    "OUT_PATH = \"pcqm4m-contact.tsv.gz\""
   ]
  },
  {
   "cell_type": "code",
   "execution_count": 3,
   "metadata": {},
   "outputs": [],
   "source": [
    "ANGSTROM_DIST_TH = 3.5\n",
    "PATH_LEN_TH = 5\n",
    "MAX_MOLS = None"
   ]
  },
  {
   "cell_type": "code",
   "execution_count": 4,
   "metadata": {},
   "outputs": [
    {
     "name": "stdout",
     "output_type": "stream",
     "text": [
      "Using exist file pcqm4m-v2-train.sdf.tar.gz\n",
      "Using existing file ./pcqm4m-v2-train.sdf\n"
     ]
    }
   ],
   "source": [
    "if not SKIP_DOWNLOAD:\n",
    "    # This can take many minutes\n",
    "    path = download_url(SDF_URL, ROOT)\n",
    "    if os.path.exists(SDF_LOCAL):\n",
    "        print(f\"Using existing file {SDF_LOCAL}\")\n",
    "    else:\n",
    "        with tarfile.open(path) as file:\n",
    "            file.extractall()"
   ]
  },
  {
   "cell_type": "code",
   "execution_count": 5,
   "metadata": {},
   "outputs": [
    {
     "name": "stdout",
     "output_type": "stream",
     "text": [
      "Using exist file pcqm4m-v2.zip\n",
      "Extracting ./pcqm4m-v2.zip\n"
     ]
    }
   ],
   "source": [
    "if not SKIP_DOWNLOAD:\n",
    "    raw_path = download_url(RAW_URL, ROOT)\n",
    "    extract_zip(raw_path, ROOT)"
   ]
  },
  {
   "cell_type": "code",
   "execution_count": 6,
   "metadata": {},
   "outputs": [
    {
     "name": "stderr",
     "output_type": "stream",
     "text": [
      "  4%|▍         | 148362/3378606 [00:30<10:30, 5124.56it/s]RDKit WARNING: [00:00:50] Warning: molecule is tagged as 3D, but all Z coords are zero\n",
      " 57%|█████▋    | 1921223/3378606 [08:49<06:19, 3842.38it/s]RDKit WARNING: [00:09:08] Conflicting single bond directions around double bond at index 12.\n",
      "RDKit WARNING: [00:09:08]   BondStereo set to STEREONONE and single bond directions set to NONE.\n",
      " 58%|█████▊    | 1960724/3378606 [08:59<05:25, 4358.73it/s]RDKit WARNING: [00:09:18] Warning: molecule is tagged as 3D, but all Z coords are zero\n",
      " 75%|███████▌  | 2550203/3378606 [11:46<03:45, 3678.85it/s]RDKit WARNING: [00:12:06] Warning: molecule is tagged as 3D, but all Z coords are zero\n",
      " 77%|███████▋  | 2597414/3378606 [11:59<03:22, 3857.10it/s]RDKit WARNING: [00:12:18] Warning: molecule is tagged as 3D, but all Z coords are zero\n",
      " 82%|████████▏ | 2778597/3378606 [12:47<02:42, 3682.53it/s]RDKit WARNING: [00:13:06] Warning: molecule is tagged as 3D, but all Z coords are zero\n",
      " 82%|████████▏ | 2786749/3378606 [12:49<02:27, 4009.88it/s]RDKit WARNING: [00:13:08] Warning: molecule is tagged as 3D, but all Z coords are zero\n",
      " 83%|████████▎ | 2821130/3378606 [12:57<02:15, 4111.82it/s]RDKit WARNING: [00:13:16] Warning: molecule is tagged as 3D, but all Z coords are zero\n",
      " 85%|████████▍ | 2860733/3378606 [13:05<01:36, 5346.46it/s]RDKit WARNING: [00:13:24] Warning: molecule is tagged as 3D, but all Z coords are zero\n",
      " 85%|████████▌ | 2888199/3378606 [13:10<01:28, 5518.46it/s]RDKit WARNING: [00:13:29] Warning: molecule is tagged as 3D, but all Z coords are zero\n",
      " 87%|████████▋ | 2934567/3378606 [13:19<01:58, 3738.33it/s]RDKit WARNING: [00:13:39] Warning: molecule is tagged as 3D, but all Z coords are zero\n",
      " 88%|████████▊ | 2980779/3378606 [13:32<01:33, 4238.94it/s]RDKit WARNING: [00:13:51] Warning: molecule is tagged as 3D, but all Z coords are zero\n",
      " 89%|████████▊ | 2990830/3378606 [13:35<01:57, 3308.45it/s]RDKit WARNING: [00:13:54] Warning: molecule is tagged as 3D, but all Z coords are zero\n",
      "100%|██████████| 3378606/3378606 [14:52<00:00, 3786.99it/s]"
     ]
    },
    {
     "name": "stdout",
     "output_type": "stream",
     "text": [
      "3378606\n"
     ]
    },
    {
     "name": "stderr",
     "output_type": "stream",
     "text": [
      "\n"
     ]
    },
    {
     "data": {
      "image/png": "[encoded data removed]",
      "text/plain": [
       "<rdkit.Chem.rdchem.Mol at 0x7f3f816ead60>"
      ]
     },
     "execution_count": 6,
     "metadata": {},
     "output_type": "execute_result"
    }
   ],
   "source": [
    "mols = sdf_to_mols(SDF_LOCAL, max_mols=MAX_MOLS, removeHs=False)\n",
    "print(len(mols))\n",
    "mols[0]"
   ]
  },
  {
   "cell_type": "code",
   "execution_count": 7,
   "metadata": {},
   "outputs": [
    {
     "name": "stderr",
     "output_type": "stream",
     "text": [
      "100%|██████████| 3378606/3378606 [12:09<00:00, 4630.24it/s]\n"
     ]
    }
   ],
   "source": [
    "all_contact_dict = Parallel(n_jobs=-1)(delayed(get_contact_dict)(\n",
    "    mol, angstrom_dist_threshold=ANGSTROM_DIST_TH, path_len_threshold=PATH_LEN_TH\n",
    "    ) for mol in tqdm(mols))\n",
    "\n",
    "# these_mols = mols[150000:]\n",
    "# all_contact_dict = []\n",
    "# for mol in tqdm(these_mols):\n",
    "#     all_contact_dict.append(get_contact_dict(\n",
    "#         mol, angstrom_dist_threshold=ANGSTROM_DIST_TH, path_len_threshold=PATH_LEN_TH\n",
    "#     ))"
   ]
  },
  {
   "cell_type": "code",
   "execution_count": 8,
   "metadata": {},
   "outputs": [],
   "source": [
    "def validate_contact_maps(all_contact_dict, idx):\n",
    "    # Validate visually that, when reading the cxsmiles, the contact map gives the right information\n",
    "    contact_dict = all_contact_dict[idx]\n",
    "    cxsmiles = contact_dict[\"cxsmiles\"]\n",
    "    mol, contact_idx = cxsmiles_to_mol_with_contact(cxsmiles)\n",
    "    xyz = mol.GetConformer(0).GetPositions()\n",
    "    dist_matrix = get_self_euclidean_dist_matrix(xyz[:, 0], xyz[:, 1], xyz[:, 2])\n",
    "    dist_matrix[np.tril_indices_from(dist_matrix)] = float(\"nan\")\n",
    "    plt.imshow(dist_matrix)\n",
    "    adj = GetAdjacencyMatrix(mol).astype(float)\n",
    "    adj_4 = (np.linalg.matrix_power(adj, 4) + np.linalg.matrix_power(adj, 3) + np.linalg.matrix_power(adj, 2) + adj) > 0\n",
    "    adj[contact_idx[:, 0], contact_idx[:, 1]] = 2\n",
    "    adj[np.tril_indices_from(dist_matrix)] = float(\"nan\")\n",
    "    dist_matrix_inv = (dist_matrix ** -2)\n",
    "    dist_matrix_inv[adj_4] = 0\n",
    "\n",
    "    plt.subplot(1, 2, 1)\n",
    "    plt.imshow(adj, vmin=0, vmax=2)\n",
    "    plt.subplot(1, 2, 2)\n",
    "    plt.imshow(dist_matrix_inv, vmin=0, vmax=ANGSTROM_DIST_TH**-2)\n",
    "    plt.show()"
   ]
  },
  {
   "cell_type": "code",
   "execution_count": 9,
   "metadata": {},
   "outputs": [
    {
     "data": {
      "image/png": "[encoded data removed]",
      "text/plain": [
       "<Figure size 432x288 with 2 Axes>"
      ]
     },
     "metadata": {
      "needs_background": "light"
     },
     "output_type": "display_data"
    },
    {
     "data": {
      "image/png": "[encoded data removed]",
      "text/plain": [
       "<Figure size 432x288 with 2 Axes>"
      ]
     },
     "metadata": {
      "needs_background": "light"
     },
     "output_type": "display_data"
    },
    {
     "data": {
      "image/png": "[encoded data removed]",
      "text/plain": [
       "<Figure size 432x288 with 2 Axes>"
      ]
     },
     "metadata": {
      "needs_background": "light"
     },
     "output_type": "display_data"
    },
    {
     "data": {
      "image/png": "[encoded data removed]",
      "text/plain": [
       "<Figure size 432x288 with 2 Axes>"
      ]
     },
     "metadata": {
      "needs_background": "light"
     },
     "output_type": "display_data"
    },
    {
     "data": {
      "image/png": "[encoded data removed]",
      "text/plain": [
       "<Figure size 432x288 with 2 Axes>"
      ]
     },
     "metadata": {
      "needs_background": "light"
     },
     "output_type": "display_data"
    }
   ],
   "source": [
    "validate_contact_maps(all_contact_dict, 1)\n",
    "validate_contact_maps(all_contact_dict, 13)\n",
    "validate_contact_maps(all_contact_dict, 14)\n",
    "validate_contact_maps(all_contact_dict, 333)\n",
    "validate_contact_maps(all_contact_dict, 26017)"
   ]
  },
  {
   "cell_type": "code",
   "execution_count": 10,
   "metadata": {},
   "outputs": [
    {
     "data": {
      "text/plain": [
       "dict_keys(['num_atoms', 'adj', 'is_contact', 'idx_contact', 'num_contact', '3d_dist_contact', 'path_len_contact', 'cxsmiles', 'smiles'])"
      ]
     },
     "execution_count": 10,
     "metadata": {},
     "output_type": "execute_result"
    }
   ],
   "source": [
    "all_contact_dict[0].keys()"
   ]
  },
  {
   "cell_type": "code",
   "execution_count": 11,
   "metadata": {},
   "outputs": [],
   "source": [
    "all_cxsmiles = [cxs[\"cxsmiles\"] for cxs in all_contact_dict]\n",
    "df = pd.DataFrame({\"cxsmiles\": all_cxsmiles})\n",
    "df.to_csv(OUT_PATH, sep=\"\\t\", index=False)"
   ]
  },
  {
   "cell_type": "code",
   "execution_count": 12,
   "metadata": {},
   "outputs": [
    {
     "name": "stderr",
     "output_type": "stream",
     "text": [
      "3378606it [07:45, 7253.59it/s] \n"
     ]
    },
    {
     "name": "stdout",
     "output_type": "stream",
     "text": [
      "DONE! :)\n"
     ]
    }
   ],
   "source": [
    "# Make sure that `cxsmiles_to_mol_with_contact` works well on all molecules\n",
    "test_df = pd.read_csv(OUT_PATH, sep=\"\\t\")\n",
    "graph_contacts = Parallel(n_jobs=-1)(delayed(try_read_cxsmiles)(\n",
    "    cxs, ii\n",
    "    ) for ii, cxs in tqdm(enumerate(test_df[\"cxsmiles\"])))\n",
    "\n",
    "print(\"DONE! :)\")"
   ]
  },
  {
   "cell_type": "code",
   "execution_count": 13,
   "metadata": {},
   "outputs": [
    {
     "name": "stdout",
     "output_type": "stream",
     "text": [
      "num graph nodes 30\n",
      "num atoms no Hs 18\n",
      "num atoms 30\n"
     ]
    },
    {
     "data": {
      "image/png": "[encoded data removed]",
      "text/plain": [
       "<rdkit.Chem.rdchem.Mol at 0x7f3f816ead60>"
      ]
     },
     "execution_count": 13,
     "metadata": {},
     "output_type": "execute_result"
    }
   ],
   "source": [
    "print(\"num graph nodes\", graph_contacts[0][\"num_nodes\"])\n",
    "print(\"num atoms no Hs\", RemoveHs(mols[0]).GetNumAtoms())\n",
    "print(\"num atoms\", mols[0].GetNumAtoms())\n",
    "mols[0]"
   ]
  }
 ],
 "metadata": {
  "interpreter": {
   "hash": "906fb3602c4d49c4c01ec4a34d5abe4c7af3a32cf71a93ee4914804593d051b0"
  },
  "kernelspec": {
   "display_name": "Python 3.9.9 ('gtblueprint')",
   "language": "python",
   "name": "python3"
  },
  "language_info": {
   "codemirror_mode": {
    "name": "ipython",
    "version": 3
   },
   "file_extension": ".py",
   "mimetype": "text/x-python",
   "name": "python",
   "nbconvert_exporter": "python",
   "pygments_lexer": "ipython3",
   "version": "3.8.10"
  },
  "orig_nbformat": 4
 },
 "nbformat": 4,
 "nbformat_minor": 2
}
